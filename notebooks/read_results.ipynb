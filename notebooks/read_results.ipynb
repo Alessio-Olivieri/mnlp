{
 "cells": [
  {
   "cell_type": "code",
   "execution_count": 1,
   "id": "55fc19af",
   "metadata": {},
   "outputs": [
    {
     "name": "stdout",
     "output_type": "stream",
     "text": [
      "/home/lexyo/mnlp/notebooks/../src/paths.py\n"
     ]
    }
   ],
   "source": [
    "import sys\n",
    "sys.path.append(\"../src\")\n",
    "import paths\n",
    "RESULTS = paths.results"
   ]
  },
  {
   "cell_type": "code",
   "execution_count": 5,
   "id": "3729f7f6",
   "metadata": {},
   "outputs": [
    {
     "name": "stdout",
     "output_type": "stream",
     "text": [
      "/home/lexyo/mnlp/notebooks/../results\n"
     ]
    }
   ],
   "source": [
    "print(RESULTS)"
   ]
  },
  {
   "cell_type": "code",
   "execution_count": null,
   "id": "a420554a",
   "metadata": {},
   "outputs": [
    {
     "name": "stdout",
     "output_type": "stream",
     "text": [
      "bert_dev_tokens.csv: <class 'pandas.core.series.Series'>\n",
      "deberta_dev_tokens.csv: <class 'pandas.core.series.Series'>\n",
      "gptpredval.pkl: <class 'list'>\n",
      "Mistral-7B-Instruct-v0.1-dev.pkl: <class 'list'>\n",
      "Mistral-7B-Instruct-v0.3-dev.pkl: <class 'list'>\n",
      "modernbert_dev_tokens.csv: <class 'pandas.core.series.Series'>\n",
      "punctpredval.pkl: <class 'list'>\n",
      "Qwen2-7B-Instruct-dev.pkl: <class 'list'>\n"
     ]
    }
   ],
   "source": [
    "import pickle\n",
    "import os\n",
    "import pandas as pd\n",
    "\n",
    "files = [\n",
    "    \"bert_dev_tokens.csv\",\n",
    "    \"deberta_dev_tokens.csv\",\n",
    "    \"bert_val_tokens.csv\",\n",
    "    \"deberta_val_tokens.csv\",\n",
    "    \"modernbert_val_tokens.csv\",\n",
    "\n",
    "    \"gptpredval.pkl\",\n",
    "    \"Mistral-7B-Instruct-v0.1-dev.pkl\",\n",
    "    \"Mistral-7B-Instruct-v0.3-dev.pkl\",\n",
    "    \"modernbert_dev_tokens.csv\",\n",
    "    \"punctpredval.pkl\",\n",
    "    \"Qwen2-7B-Instruct-dev.pkl\",\n",
    "]\n",
    "\n",
    "# Dictionary to hold loaded data\n",
    "data = {}\n",
    "\n",
    "# Loop through and read files\n",
    "for fname in files:\n",
    "    path = RESULTS/ fname\n",
    "    if fname.endswith(\".csv\"):\n",
    "        data[fname] = pd.read_csv(path)[\"pred\"]\n",
    "    elif fname.endswith(\".pkl\"):\n",
    "        with open(path, \"rb\") as f:\n",
    "            data[fname] = pickle.load(f)[0] if fname != \"punctpredval.pkl\" else pickle.load(f)\n",
    "\n",
    "# Show what was loaded\n",
    "for k, v in data.items():\n",
    "    print(f\"{k}: {type(v)}\")\n",
    "    if isinstance(v, pd.DataFrame):\n",
    "        print(v.head(), \"\\n\")\n",
    "\n",
    "DATA = paths.data\n",
    "tokens = pd.read_csv(DATA/\"manzoni_dev_tokens.csv\")[\"token\"]\n"
   ]
  },
  {
   "cell_type": "code",
   "execution_count": 40,
   "id": "625f4830",
   "metadata": {},
   "outputs": [
    {
     "name": "stdout",
     "output_type": "stream",
     "text": [
      "bert_dev_tokens.csv\n",
      "gold:  10677\n",
      "value:  10677\n",
      "{'precision': 0.9895287958115183, 'recall': 0.9973614775725593, 'f1': 0.9934296977660972, 'accuracy': 0.9995317036620773}\n",
      "deberta_dev_tokens.csv\n",
      "gold:  10655\n",
      "value:  10655\n",
      "{'precision': 0.9916666666666667, 'recall': 0.9972067039106145, 'f1': 0.9944289693593314, 'accuracy': 0.9996245893946504}\n",
      "gptpredval.pkl\n",
      "gold:  9343\n",
      "value:  9343\n",
      "{'precision': 0.27638190954773867, 'recall': 0.3395061728395062, 'f1': 0.3047091412742382, 'accuracy': 0.9462699347104784}\n",
      "Mistral-7B-Instruct-v0.1-dev.pkl\n",
      "gold:  9343\n",
      "value:  9343\n",
      "{'precision': 0.652542372881356, 'recall': 0.23765432098765432, 'f1': 0.34841628959276016, 'accuracy': 0.9691747832601948}\n",
      "Mistral-7B-Instruct-v0.3-dev.pkl\n",
      "gold:  9343\n",
      "value:  9343\n",
      "{'precision': 0.3010989010989011, 'recall': 0.4228395061728395, 'f1': 0.35173299101412064, 'accuracy': 0.9459488387027721}\n",
      "modernbert_dev_tokens.csv\n",
      "gold:  9650\n",
      "value:  9650\n",
      "{'precision': 0.9763313609467456, 'recall': 0.990990990990991, 'f1': 0.9836065573770492, 'accuracy': 0.998860103626943}\n",
      "punctpredval.pkl\n",
      "gold:  9343\n",
      "value:  9343\n",
      "{'precision': 0.6465968586387435, 'recall': 0.7623456790123457, 'f1': 0.6997167138810199, 'accuracy': 0.9773092154554212}\n",
      "Qwen2-7B-Instruct-dev.pkl\n",
      "gold:  9343\n",
      "value:  9343\n",
      "{'precision': 0.43174603174603177, 'recall': 0.41975308641975306, 'f1': 0.42566510172143973, 'accuracy': 0.9607192550572621}\n"
     ]
    }
   ],
   "source": [
    "from sklearn.metrics import precision_recall_fscore_support, accuracy_score    \n",
    "for key,value in data.items():\n",
    "    if key[-3:] == \"csv\":\n",
    "        gold = pd.read_csv(RESULTS/key)[\"label\"]\n",
    "    else:\n",
    "        gold = pd.read_csv(DATA/\"manzoni_dev_tokens.csv\")[\"label\"]\n",
    "    print(key)\n",
    "    print(\"gold: \", len(gold))\n",
    "    print(\"value: \", len(value))\n",
    "    prec, rec, f1, _ = precision_recall_fscore_support(\n",
    "        gold, value, labels=[1], average=\"binary\", zero_division=0\n",
    "    )\n",
    "    acc = accuracy_score(gold, value)\n",
    "\n",
    "    print({\"precision\": float(prec), \"recall\": float(rec), \"f1\": float(f1), \"accuracy\": float(acc)})"
   ]
  },
  {
   "cell_type": "code",
   "execution_count": 35,
   "id": "7202d1e8",
   "metadata": {},
   "outputs": [
    {
     "data": {
      "text/plain": [
       "0"
      ]
     },
     "execution_count": 35,
     "metadata": {},
     "output_type": "execute_result"
    }
   ],
   "source": [
    "data[\"punctpredval.pkl\"]"
   ]
  }
 ],
 "metadata": {
  "kernelspec": {
   "display_name": ".venv",
   "language": "python",
   "name": "python3"
  },
  "language_info": {
   "codemirror_mode": {
    "name": "ipython",
    "version": 3
   },
   "file_extension": ".py",
   "mimetype": "text/x-python",
   "name": "python",
   "nbconvert_exporter": "python",
   "pygments_lexer": "ipython3",
   "version": "3.12.3"
  }
 },
 "nbformat": 4,
 "nbformat_minor": 5
}
