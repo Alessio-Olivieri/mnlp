{
 "cells": [
  {
   "cell_type": "code",
   "execution_count": 1,
   "id": "55fc19af",
   "metadata": {},
   "outputs": [
    {
     "name": "stdout",
     "output_type": "stream",
     "text": [
      "/home/user/mnlp/notebooks/../src/paths.py\n"
     ]
    }
   ],
   "source": [
    "import sys\n",
    "sys.path.append(\"../src\")\n",
    "import paths\n",
    "RESULTS = paths.results"
   ]
  },
  {
   "cell_type": "code",
   "execution_count": 2,
   "id": "3729f7f6",
   "metadata": {},
   "outputs": [
    {
     "name": "stdout",
     "output_type": "stream",
     "text": [
      "/home/user/mnlp/notebooks/../results\n"
     ]
    }
   ],
   "source": [
    "print(RESULTS)"
   ]
  },
  {
   "cell_type": "code",
   "execution_count": 20,
   "id": "a420554a",
   "metadata": {},
   "outputs": [
    {
     "name": "stdout",
     "output_type": "stream",
     "text": [
      "bert_OOD_tokens.csv: <class 'pandas.core.series.Series'>\n",
      "deberta_OOD_tokens.csv: <class 'pandas.core.series.Series'>\n",
      "modernbert_OOD_tokens.csv: <class 'pandas.core.series.Series'>\n",
      "bert_val_tokens.csv: <class 'pandas.core.series.Series'>\n",
      "deberta_val_tokens.csv: <class 'pandas.core.series.Series'>\n",
      "modernbert_val_tokens.csv: <class 'pandas.core.series.Series'>\n",
      "bert_dev_tokens.csv: <class 'pandas.core.series.Series'>\n",
      "deberta_dev_tokens.csv: <class 'pandas.core.series.Series'>\n",
      "modernbert_dev_tokens.csv: <class 'pandas.core.series.Series'>\n",
      "gptpreddev.pkl: <class 'list'>\n",
      "gptpredOOD.pkl: <class 'list'>\n",
      "Mistral-7B-Instruct-v0.1-dev.pkl: <class 'list'>\n",
      "Mistral-7B-Instruct-v0.3-dev.pkl: <class 'list'>\n",
      "Mistral-7B-Instruct-v0.1-OOD.pkl: <class 'list'>\n",
      "Mistral-7B-Instruct-v0.3-OOD.pkl: <class 'list'>\n",
      "punctpredOOD.pkl: <class 'list'>\n",
      "punctpreddev.pkl: <class 'list'>\n",
      "Qwen2-7B-Instruct-OOD.pkl: <class 'list'>\n",
      "Qwen2-7B-Instruct-dev.pkl: <class 'list'>\n"
     ]
    }
   ],
   "source": [
    "import pickle\n",
    "import os\n",
    "import pandas as pd\n",
    "\n",
    "files = [\n",
    "    \"bert_OOD_tokens.csv\",\n",
    "    \"deberta_OOD_tokens.csv\",\n",
    "    \"modernbert_OOD_tokens.csv\",\n",
    "    \"bert_val_tokens.csv\",\n",
    "    \"deberta_val_tokens.csv\",\n",
    "    \"modernbert_val_tokens.csv\",\n",
    "    \"bert_dev_tokens.csv\",\n",
    "    \"deberta_dev_tokens.csv\",\n",
    "    \"modernbert_dev_tokens.csv\",\n",
    "\n",
    "    \"gptpreddev.pkl\",\n",
    "    \"gptpredOOD.pkl\",\n",
    "    \"Mistral-7B-Instruct-v0.1-dev.pkl\",\n",
    "    \"Mistral-7B-Instruct-v0.3-dev.pkl\",\n",
    "    \"Mistral-7B-Instruct-v0.1-OOD.pkl\",\n",
    "    \"Mistral-7B-Instruct-v0.3-OOD.pkl\",\n",
    "    \"punctpredOOD.pkl\",\n",
    "    \"punctpreddev.pkl\",\n",
    "    \"Qwen2-7B-Instruct-OOD.pkl\",\n",
    "    \"Qwen2-7B-Instruct-dev.pkl\",\n",
    "\n",
    "\n",
    "]\n",
    "\n",
    "# Dictionary to hold loaded data\n",
    "data = {}\n",
    "\n",
    "# Loop through and read files\n",
    "for fname in files:\n",
    "    path = RESULTS/ fname\n",
    "    if fname.endswith(\".csv\"):\n",
    "        data[fname] = pd.read_csv(path)[\"pred\"]\n",
    "    elif fname.endswith(\".pkl\"):\n",
    "        with open(path, \"rb\") as f:\n",
    "            data[fname] = pickle.load(f)[0] if fname not in [\"punctpreddev.pkl\", \"punctpredOOD.pkl\"] else pickle.load(f)\n",
    "\n",
    "# Show what was loaded\n",
    "for k, v in data.items():\n",
    "    print(f\"{k}: {type(v)}\")\n",
    "    if isinstance(v, pd.DataFrame):\n",
    "        print(v.head(), \"\\n\")\n",
    "\n",
    "DATA = paths.data\n",
    "tokens = pd.read_csv(DATA/\"manzoni_dev_tokens.csv\")[\"token\"]\n"
   ]
  },
  {
   "cell_type": "code",
   "execution_count": 67,
   "id": "625f4830",
   "metadata": {},
   "outputs": [
    {
     "name": "stdout",
     "output_type": "stream",
     "text": [
      "bert_OOD_tokens.csv\n",
      "gold:  1725\n",
      "value:  1725\n",
      "{'precision': 0.7982456140350878, 'recall': 0.8198198198198198, 'f1': 0.8088888888888889, 'accuracy': 0.975072463768116}\n",
      "deberta_OOD_tokens.csv\n",
      "gold:  1698\n",
      "value:  1698\n",
      "{'precision': 0.9207920792079208, 'recall': 0.8857142857142857, 'f1': 0.9029126213592233, 'accuracy': 0.9882214369846879}\n",
      "modernbert_OOD_tokens.csv\n",
      "gold:  1554\n",
      "value:  1554\n",
      "{'precision': 0.8375, 'recall': 0.6907216494845361, 'f1': 0.7570621468926554, 'accuracy': 0.9723294723294723}\n",
      "bert_val_tokens.csv\n",
      "gold:  17274\n",
      "value:  17274\n",
      "{'precision': 0.9813559322033898, 'recall': 0.9914383561643836, 'f1': 0.9863713798977853, 'accuracy': 0.999073752460345}\n",
      "deberta_val_tokens.csv\n",
      "gold:  17305\n",
      "value:  17305\n",
      "{'precision': 0.998165137614679, 'recall': 0.9927007299270073, 'f1': 0.9954254345837146, 'accuracy': 0.999711066165848}\n",
      "modernbert_val_tokens.csv\n",
      "gold:  16499\n",
      "value:  16499\n",
      "{'precision': 0.9601990049751243, 'recall': 0.9523026315789473, 'f1': 0.9562345169281585, 'accuracy': 0.9967876841020668}\n",
      "bert_dev_tokens.csv\n",
      "gold:  10677\n",
      "value:  10677\n",
      "{'precision': 0.9895287958115183, 'recall': 0.9973614775725593, 'f1': 0.9934296977660972, 'accuracy': 0.9995317036620773}\n",
      "deberta_dev_tokens.csv\n",
      "gold:  10655\n",
      "value:  10655\n",
      "{'precision': 0.9916666666666667, 'recall': 0.9972067039106145, 'f1': 0.9944289693593314, 'accuracy': 0.9996245893946504}\n",
      "modernbert_dev_tokens.csv\n",
      "gold:  9650\n",
      "value:  9650\n",
      "{'precision': 0.9763313609467456, 'recall': 0.990990990990991, 'f1': 0.9836065573770492, 'accuracy': 0.998860103626943}\n",
      "gptpreddev.pkl\n",
      "gold:  9343\n",
      "value:  9343\n",
      "{'precision': 0.27638190954773867, 'recall': 0.3395061728395062, 'f1': 0.3047091412742382, 'accuracy': 0.9462699347104784}\n",
      "gptpredOOD.pkl\n",
      "gold:  1522\n",
      "value:  1522\n",
      "{'precision': 0.2894736842105263, 'recall': 0.34375, 'f1': 0.3142857142857143, 'accuracy': 0.9053876478318003}\n",
      "Mistral-7B-Instruct-v0.1-dev.pkl\n",
      "gold:  9343\n",
      "value:  9343\n",
      "{'precision': 0.652542372881356, 'recall': 0.23765432098765432, 'f1': 0.34841628959276016, 'accuracy': 0.9691747832601948}\n",
      "Mistral-7B-Instruct-v0.3-dev.pkl\n",
      "gold:  9343\n",
      "value:  9343\n",
      "{'precision': 0.3010989010989011, 'recall': 0.4228395061728395, 'f1': 0.35173299101412064, 'accuracy': 0.9459488387027721}\n",
      "Mistral-7B-Instruct-v0.1-OOD.pkl\n",
      "gold:  1522\n",
      "value:  1522\n",
      "{'precision': 0.7948717948717948, 'recall': 0.3229166666666667, 'f1': 0.45925925925925926, 'accuracy': 0.9520367936925098}\n",
      "Mistral-7B-Instruct-v0.3-OOD.pkl\n",
      "gold:  1522\n",
      "value:  1522\n",
      "{'precision': 0.3584905660377358, 'recall': 0.3958333333333333, 'f1': 0.37623762376237624, 'accuracy': 0.9172141918528253}\n",
      "punctpredOOD.pkl\n",
      "gold:  1522\n",
      "value:  1522\n",
      "{'precision': 0.8018867924528302, 'recall': 0.8854166666666666, 'f1': 0.8415841584158416, 'accuracy': 0.9789750328515112}\n",
      "punctpreddev.pkl\n",
      "gold:  9343\n",
      "value:  9343\n",
      "{'precision': 0.6465968586387435, 'recall': 0.7623456790123457, 'f1': 0.6997167138810199, 'accuracy': 0.9773092154554212}\n",
      "Qwen2-7B-Instruct-OOD.pkl\n",
      "gold:  1522\n",
      "value:  1522\n",
      "{'precision': 0.36, 'recall': 0.09375, 'f1': 0.1487603305785124, 'accuracy': 0.9323258869908015}\n",
      "Qwen2-7B-Instruct-dev.pkl\n",
      "gold:  9343\n",
      "value:  9343\n",
      "{'precision': 0.43174603174603177, 'recall': 0.41975308641975306, 'f1': 0.42566510172143973, 'accuracy': 0.9607192550572621}\n"
     ]
    }
   ],
   "source": [
    "from sklearn.metrics import precision_recall_fscore_support, accuracy_score   \n",
    "\n",
    "SUBMISSION = RESULTS/\"submission\" \n",
    "for key,value in data.items():\n",
    "    group_hw = f\"last_slice_of_pizza-sentence_split-hw3_{split}-{model}.csv\"\n",
    "    if key in [\"punctpredOOD.pkl\", \"punctpreddev.pkl\"]:\n",
    "        gold = pd.read_csv(DATA/\"manzoni_dev_tokens.csv\")[\"label\"] if \"dev\" in key else pd.read_csv(DATA/\"OOD_test.csv\")[\"label\"]\n",
    "    if key[-3:] == \"csv\":\n",
    "        gold = pd.read_csv(RESULTS/key)[\"label\"]\n",
    "    else:\n",
    "        gold = pd.read_csv(DATA/\"manzoni_dev_tokens.csv\")[\"label\"] if \"dev\" in key else pd.read_csv(DATA/\"OOD_test.csv\")[\"label\"]\n",
    "    print(key)\n",
    "    print(\"gold: \", len(gold))\n",
    "    print(\"value: \", len(value))\n",
    "    prec, rec, f1, _ = precision_recall_fscore_support(\n",
    "        gold, value, labels=[1], average=\"binary\", zero_division=0\n",
    "    )\n",
    "    acc = accuracy_score(gold, value)\n",
    "\n",
    "    if \"dev\" in key or \"OOD\" in key:\n",
    "        if \"gpt\" in key: \n",
    "            model = \"Gpt_oss_20b\"\n",
    "        elif \"bert\" in key:\n",
    "            model = key[:-15]\n",
    "        else:\n",
    "            model = key[:-8]\n",
    "        \n",
    "        if \"dev\" in key:\n",
    "            split = \"dev\" \n",
    "        else:\n",
    "            split = \"ood\"\n",
    "        \n",
    "        df = pd.DataFrame({\"label\":value})\n",
    "        df.to_csv(open(SUBMISSION/(group_hw.format(split, model)), \"wb\"), index=False)\n",
    "\n",
    "    \n",
    "\n",
    "    print({\"precision\": float(prec), \"recall\": float(rec), \"f1\": float(f1), \"accuracy\": float(acc)})"
   ]
  },
  {
   "cell_type": "code",
   "execution_count": 32,
   "id": "5abe7925",
   "metadata": {},
   "outputs": [
    {
     "name": "stdout",
     "output_type": "stream",
     "text": [
      "False\n"
     ]
    }
   ],
   "source": [
    "print(any([False if x in [0,1] else True for x in data[\"bert_OOD_tokens.csv\"]]))"
   ]
  },
  {
   "cell_type": "code",
   "execution_count": 63,
   "id": "c46d8d7d",
   "metadata": {},
   "outputs": [
    {
     "data": {
      "text/plain": [
       "'last_slice_of_pizza-sentence_split-hw3_dev-Qwen2-7B-Instruct.csv'"
      ]
     },
     "execution_count": 63,
     "metadata": {},
     "output_type": "execute_result"
    }
   ],
   "source": [
    "group_hw"
   ]
  },
  {
   "cell_type": "code",
   "execution_count": null,
   "id": "62604830",
   "metadata": {},
   "outputs": [
    {
     "data": {
      "text/html": [
       "<div>\n",
       "<style scoped>\n",
       "    .dataframe tbody tr th:only-of-type {\n",
       "        vertical-align: middle;\n",
       "    }\n",
       "\n",
       "    .dataframe tbody tr th {\n",
       "        vertical-align: top;\n",
       "    }\n",
       "\n",
       "    .dataframe thead th {\n",
       "        text-align: right;\n",
       "    }\n",
       "</style>\n",
       "<table border=\"1\" class=\"dataframe\">\n",
       "  <thead>\n",
       "    <tr style=\"text-align: right;\">\n",
       "      <th></th>\n",
       "      <th>label</th>\n",
       "    </tr>\n",
       "  </thead>\n",
       "  <tbody>\n",
       "    <tr>\n",
       "      <th>0</th>\n",
       "      <td>0</td>\n",
       "    </tr>\n",
       "    <tr>\n",
       "      <th>1</th>\n",
       "      <td>0</td>\n",
       "    </tr>\n",
       "    <tr>\n",
       "      <th>2</th>\n",
       "      <td>0</td>\n",
       "    </tr>\n",
       "    <tr>\n",
       "      <th>3</th>\n",
       "      <td>0</td>\n",
       "    </tr>\n",
       "    <tr>\n",
       "      <th>4</th>\n",
       "      <td>0</td>\n",
       "    </tr>\n",
       "    <tr>\n",
       "      <th>...</th>\n",
       "      <td>...</td>\n",
       "    </tr>\n",
       "    <tr>\n",
       "      <th>9338</th>\n",
       "      <td>0</td>\n",
       "    </tr>\n",
       "    <tr>\n",
       "      <th>9339</th>\n",
       "      <td>0</td>\n",
       "    </tr>\n",
       "    <tr>\n",
       "      <th>9340</th>\n",
       "      <td>0</td>\n",
       "    </tr>\n",
       "    <tr>\n",
       "      <th>9341</th>\n",
       "      <td>0</td>\n",
       "    </tr>\n",
       "    <tr>\n",
       "      <th>9342</th>\n",
       "      <td>1</td>\n",
       "    </tr>\n",
       "  </tbody>\n",
       "</table>\n",
       "<p>9343 rows × 1 columns</p>\n",
       "</div>"
      ],
      "text/plain": [
       "      label\n",
       "0         0\n",
       "1         0\n",
       "2         0\n",
       "3         0\n",
       "4         0\n",
       "...     ...\n",
       "9338      0\n",
       "9339      0\n",
       "9340      0\n",
       "9341      0\n",
       "9342      1\n",
       "\n",
       "[9343 rows x 1 columns]"
      ]
     },
     "execution_count": 46,
     "metadata": {},
     "output_type": "execute_result"
    }
   ],
   "source": [
    "value\n",
    "df"
   ]
  }
 ],
 "metadata": {
  "kernelspec": {
   "display_name": "base",
   "language": "python",
   "name": "python3"
  },
  "language_info": {
   "codemirror_mode": {
    "name": "ipython",
    "version": 3
   },
   "file_extension": ".py",
   "mimetype": "text/x-python",
   "name": "python",
   "nbconvert_exporter": "python",
   "pygments_lexer": "ipython3",
   "version": "3.12.7"
  }
 },
 "nbformat": 4,
 "nbformat_minor": 5
}
