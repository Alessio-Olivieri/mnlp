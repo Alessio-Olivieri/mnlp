{
 "cells": [
  {
   "cell_type": "code",
   "execution_count": 1,
   "id": "3489e4d7",
   "metadata": {},
   "outputs": [],
   "source": [
    "# !pip install -q --upgrade torch accelerate kernels\n",
    "# !pip install -q git+https://github.com/huggingface/transformers triton==3.4 git+https://github.com/triton-lang/triton.git@main#subdirectory=python/triton_kernels\n",
    "# !pip uninstall -q torchvision torchaudio -y"
   ]
  },
  {
   "cell_type": "code",
   "execution_count": 2,
   "id": "f3f4b370",
   "metadata": {},
   "outputs": [],
   "source": [
    "gpt = False"
   ]
  },
  {
   "cell_type": "code",
   "execution_count": 3,
   "id": "f602f425",
   "metadata": {},
   "outputs": [
    {
     "name": "stdout",
     "output_type": "stream",
     "text": [
      "/home/user/mnlp/notebooks/../src/paths.py\n"
     ]
    }
   ],
   "source": [
    "import sys\n",
    "sys.path.append('../src')\n",
    "import paths"
   ]
  },
  {
   "cell_type": "code",
   "execution_count": 4,
   "id": "082d97ac",
   "metadata": {},
   "outputs": [],
   "source": [
    "if gpt:\n",
    "    from transformers import AutoModelForCausalLM, AutoTokenizer, AutoConfig, Mxfp4Config\n",
    "\n",
    "    model_id = \"openai/gpt-oss-20b\"\n",
    "\n",
    "    tokenizer = AutoTokenizer.from_pretrained(model_id)\n",
    "    config = AutoConfig.from_pretrained(model_id)\n",
    "\n",
    "    quantization_config=Mxfp4Config.from_dict(config.quantization_config)\n",
    "\n",
    "    model = AutoModelForCausalLM.from_pretrained(\n",
    "        model_id,\n",
    "        quantization_config=quantization_config,\n",
    "        torch_dtype=\"auto\",\n",
    "        device_map=\"cuda\",\n",
    "    )"
   ]
  },
  {
   "cell_type": "code",
   "execution_count": null,
   "id": "6bb7164d",
   "metadata": {},
   "outputs": [],
   "source": [
    "if gpt:\n",
    "    import pandas as pd\n",
    "    import dataset\n",
    "    import importlib\n",
    "    importlib.reload(dataset)\n",
    "    import gptoss_sent_split\n",
    "    importlib.reload(gptoss_sent_split)\n",
    "    from gptoss_sent_split import BOSConfig, read_token_label_file, build_bos_jobs_by_n_sentences, run_bos_labeling, sentences_from_word_seq\n",
    "\n",
    "    cfg = BOSConfig(max_new_tokens=256)\n",
    "\n",
    "    pairs = read_token_label_file(paths.data/\"manzoni_train_tokens.csv\")\n",
    "    jobs = build_bos_jobs_by_n_sentences(pairs, tokenizer, cfg)\n",
    "    y_pred = run_bos_labeling(jobs, model, tokenizer, cfg)\n",
    "\n",
    "    tokens = [t for (t, _) in pairs]\n",
    "    gold = [y for (_, y) in pairs]\n",
    "\n",
    "    # Align lengths, just in case\n",
    "    n = min(len(tokens), len(y_pred))\n",
    "    tokens, gold, y_pred = tokens[:n], gold[:n], y_pred[:n]\n",
    "    sents = sentences_from_word_seq(tokens, y_pred)\n",
    "    import pickle\n",
    "    with open(paths.results/'gptpredtrain.pkl', 'wb') as f:\n",
    "        pickle.dump(y_pred, f)"
   ]
  },
  {
   "cell_type": "code",
   "execution_count": null,
   "id": "0974929a",
   "metadata": {},
   "outputs": [],
   "source": [
    "if gpt:\n",
    "    import pandas as pd\n",
    "    import dataset\n",
    "    import importlib\n",
    "    importlib.reload(dataset)\n",
    "    import gptoss_sent_split\n",
    "    importlib.reload(gptoss_sent_split)\n",
    "    from gptoss_sent_split import BOSConfig, read_token_label_file, build_bos_jobs_by_n_sentences, run_bos_labeling, sentences_from_word_seq\n",
    "\n",
    "    cfg = BOSConfig(max_new_tokens=256)\n",
    "\n",
    "    pairs = read_token_label_file(paths.data/\"manzoni_dev_tokens.csv\")\n",
    "    jobs = build_bos_jobs_by_n_sentences(pairs, tokenizer, cfg)\n",
    "    y_pred = run_bos_labeling(jobs, model, tokenizer, cfg)\n",
    "\n",
    "    tokens = [t for (t, _) in pairs]\n",
    "    gold = [y for (_, y) in pairs]\n",
    "\n",
    "    # Align lengths, just in case\n",
    "    n = min(len(tokens), len(y_pred))\n",
    "    tokens, gold, y_pred = tokens[:n], gold[:n], y_pred[:n]\n",
    "    sents = sentences_from_word_seq(tokens, y_pred)\n",
    "    import pickle\n",
    "    with open(paths.results/'gptpredval.pkl', 'wb') as f:\n",
    "        pickle.dump(y_pred, f)"
   ]
  },
  {
   "cell_type": "code",
   "execution_count": null,
   "id": "13378f3c",
   "metadata": {},
   "outputs": [],
   "source": [
    "gpt"
   ]
  }
 ],
 "metadata": {
  "kernelspec": {
   "display_name": ".venv",
   "language": "python",
   "name": "python3"
  },
  "language_info": {
   "codemirror_mode": {
    "name": "ipython",
    "version": 3
   },
   "file_extension": ".py",
   "mimetype": "text/x-python",
   "name": "python",
   "nbconvert_exporter": "python",
   "pygments_lexer": "ipython3",
   "version": "3.12.3"
  }
 },
 "nbformat": 4,
 "nbformat_minor": 5
}
