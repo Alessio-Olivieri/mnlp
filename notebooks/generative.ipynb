{
 "cells": [
  {
   "cell_type": "code",
   "execution_count": 1,
   "id": "3489e4d7",
   "metadata": {},
   "outputs": [],
   "source": [
    "# !pip install -q --upgrade torch accelerate kernels\n",
    "# !pip install -q git+https://github.com/huggingface/transformers triton==3.4 git+https://github.com/triton-lang/triton.git@main#subdirectory=python/triton_kernels\n",
    "# !pip uninstall -q torchvision torchaudio -y"
   ]
  },
  {
   "cell_type": "code",
   "execution_count": 2,
   "id": "f3f4b370",
   "metadata": {},
   "outputs": [],
   "source": [
    "gpt = False"
   ]
  },
  {
   "cell_type": "code",
   "execution_count": 3,
   "id": "f602f425",
   "metadata": {},
   "outputs": [
    {
     "name": "stdout",
     "output_type": "stream",
     "text": [
      "/home/user/mnlp/notebooks/../src/paths.py\n"
     ]
    }
   ],
   "source": [
    "import sys\n",
    "sys.path.append('../src')\n",
    "import paths"
   ]
  },
  {
   "cell_type": "code",
   "execution_count": 4,
   "id": "082d97ac",
   "metadata": {},
   "outputs": [
    {
     "name": "stderr",
     "output_type": "stream",
     "text": [
      "/home/user/mnlp/.venv/lib/python3.12/site-packages/tqdm/auto.py:21: TqdmWarning: IProgress not found. Please update jupyter and ipywidgets. See https://ipywidgets.readthedocs.io/en/stable/user_install.html\n",
      "  from .autonotebook import tqdm as notebook_tqdm\n"
     ]
    }
   ],
   "source": [
    "from transformers import AutoModelForCausalLM, AutoTokenizer, AutoConfig, Mxfp4Config\n",
    "if gpt:\n",
    "\n",
    "    model_id = \"openai/gpt-oss-20b\"\n",
    "\n",
    "    tokenizer = AutoTokenizer.from_pretrained(model_id)\n",
    "    config = AutoConfig.from_pretrained(model_id)\n",
    "\n",
    "    quantization_config=Mxfp4Config.from_dict(config.quantization_config)\n",
    "\n",
    "    model = AutoModelForCausalLM.from_pretrained(\n",
    "        model_id,\n",
    "        quantization_config=quantization_config,\n",
    "        torch_dtype=\"auto\",\n",
    "        device_map=\"cuda\",\n",
    "    )"
   ]
  },
  {
   "cell_type": "code",
   "execution_count": 12,
   "id": "6bb7164d",
   "metadata": {},
   "outputs": [
    {
     "name": "stdout",
     "output_type": "stream",
     "text": [
      "74764\n",
      "74764\n"
     ]
    },
    {
     "data": {
      "text/plain": [
       "{'precision': 0.6630260199164792,\n",
       " 'recall': 0.8434818144666939,\n",
       " 'f1': 0.7424460431654676,\n",
       " 'accuracy': 0.9808463966614949}"
      ]
     },
     "execution_count": 12,
     "metadata": {},
     "output_type": "execute_result"
    }
   ],
   "source": [
    "import pandas as pd\n",
    "import dataset\n",
    "import importlib\n",
    "importlib.reload(dataset)\n",
    "import gptoss_sent_split\n",
    "importlib.reload(gptoss_sent_split)\n",
    "from sklearn.metrics import precision_recall_fscore_support, accuracy_score\n",
    "from gptoss_sent_split import BOSConfig, read_token_label_file, build_bos_jobs_by_n_sentences, run_bos_labeling, sentences_from_word_seq\n",
    "if gpt:\n",
    "\n",
    "    cfg = BOSConfig(max_new_tokens=256)\n",
    "\n",
    "    pairs = read_token_label_file(paths.data/\"manzoni_train_tokens.csv\")\n",
    "    jobs = build_bos_jobs_by_n_sentences(pairs, tokenizer, cfg)\n",
    "    y_pred = run_bos_labeling(jobs, model, tokenizer, cfg)\n",
    "\n",
    "    tokens = [t for (t, _) in pairs]\n",
    "    gold = [y for (_, y) in pairs]\n",
    "\n",
    "    # Align lengths, just in case\n",
    "    n = min(len(tokens), len(y_pred))\n",
    "    tokens, gold, y_pred = tokens[:n], gold[:n], y_pred[:n]\n",
    "    sents = sentences_from_word_seq(tokens, y_pred)\n",
    "    import pickle\n",
    "    with open(paths.results/'gptpredtrain.pkl', 'wb') as f:\n",
    "        pickle.dump(y_pred, f)\n",
    "import pickle\n",
    "with open(paths.results/'gptpredtrain.pkl', 'rb') as f:\n",
    "    y_pred = pickle.load(f)\n",
    "\n",
    "pairs = read_token_label_file(paths.data/\"manzoni_train_tokens.csv\")\n",
    "gold = [y for (_, y) in pairs]\n",
    "print(len(gold))\n",
    "print(len(y_pred))\n",
    "prec, rec, f1, _ = precision_recall_fscore_support(\n",
    "    gold, y_pred, labels=[1], average=\"binary\", zero_division=0\n",
    ")\n",
    "acc = accuracy_score(gold, y_pred)\n",
    "{\"precision\": float(prec), \"recall\": float(rec), \"f1\": float(f1), \"accuracy\": float(acc)}"
   ]
  },
  {
   "cell_type": "code",
   "execution_count": 13,
   "id": "0974929a",
   "metadata": {},
   "outputs": [
    {
     "name": "stdout",
     "output_type": "stream",
     "text": [
      "9343\n",
      "9343\n"
     ]
    },
    {
     "data": {
      "text/plain": [
       "{'precision': 0.6625,\n",
       " 'recall': 0.8179012345679012,\n",
       " 'f1': 0.7320441988950276,\n",
       " 'accuracy': 0.979235791501659}"
      ]
     },
     "execution_count": 13,
     "metadata": {},
     "output_type": "execute_result"
    }
   ],
   "source": [
    "import pandas as pd\n",
    "import dataset\n",
    "import importlib\n",
    "importlib.reload(dataset)\n",
    "import gptoss_sent_split\n",
    "importlib.reload(gptoss_sent_split)\n",
    "from gptoss_sent_split import BOSConfig, read_token_label_file, build_bos_jobs_by_n_sentences, run_bos_labeling, sentences_from_word_seq\n",
    "if gpt:\n",
    "\n",
    "    cfg = BOSConfig(max_new_tokens=256)\n",
    "\n",
    "    pairs = read_token_label_file(paths.data/\"manzoni_dev_tokens.csv\")\n",
    "    jobs = build_bos_jobs_by_n_sentences(pairs, tokenizer, cfg)\n",
    "    y_pred = run_bos_labeling(jobs, model, tokenizer, cfg)\n",
    "\n",
    "    tokens = [t for (t, _) in pairs]\n",
    "    gold = [y for (_, y) in pairs]\n",
    "\n",
    "    # Align lengths, just in case\n",
    "    n = min(len(tokens), len(y_pred))\n",
    "    tokens, gold, y_pred = tokens[:n], gold[:n], y_pred[:n]\n",
    "    sents = sentences_from_word_seq(tokens, y_pred)\n",
    "    import pickle\n",
    "    with open(paths.results/'gptpredval.pkl', 'wb') as f:\n",
    "        pickle.dump(y_pred, f)\n",
    "with open(paths.results/'gptpredval.pkl', 'rb') as f:\n",
    "    y_pred = pickle.load(f)\n",
    "\n",
    "pairs = read_token_label_file(paths.data/\"manzoni_dev_tokens.csv\")\n",
    "gold = [y for (_, y) in pairs]\n",
    "print(len(gold))\n",
    "print(len(y_pred))\n",
    "prec, rec, f1, _ = precision_recall_fscore_support(\n",
    "    gold, y_pred, labels=[1], average=\"binary\", zero_division=0\n",
    ")\n",
    "acc = accuracy_score(gold, y_pred)\n",
    "{\"precision\": float(prec), \"recall\": float(rec), \"f1\": float(f1), \"accuracy\": float(acc)}"
   ]
  },
  {
   "cell_type": "code",
   "execution_count": null,
   "id": "473abdc8",
   "metadata": {},
   "outputs": [],
   "source": []
  }
 ],
 "metadata": {
  "kernelspec": {
   "display_name": ".venv",
   "language": "python",
   "name": "python3"
  },
  "language_info": {
   "codemirror_mode": {
    "name": "ipython",
    "version": 3
   },
   "file_extension": ".py",
   "mimetype": "text/x-python",
   "name": "python",
   "nbconvert_exporter": "python",
   "pygments_lexer": "ipython3",
   "version": "3.12.3"
  }
 },
 "nbformat": 4,
 "nbformat_minor": 5
}
