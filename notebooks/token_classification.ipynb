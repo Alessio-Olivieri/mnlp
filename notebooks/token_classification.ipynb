{
 "cells": [
  {
   "cell_type": "code",
   "execution_count": 2,
   "metadata": {},
   "outputs": [
    {
     "name": "stdout",
     "output_type": "stream",
     "text": [
      "/home/user/mnlp/notebooks/../src/paths.py\n"
     ]
    },
    {
     "name": "stderr",
     "output_type": "stream",
     "text": [
      "/home/user/mnlp/.venv/lib/python3.12/site-packages/tqdm/auto.py:21: TqdmWarning: IProgress not found. Please update jupyter and ipywidgets. See https://ipywidgets.readthedocs.io/en/stable/user_install.html\n",
      "  from .autonotebook import tqdm as notebook_tqdm\n"
     ]
    }
   ],
   "source": [
    "import sys\n",
    "sys.path.append(\"../src\")\n",
    "import paths\n",
    "import dataset\n",
    "import train\n",
    "import utils\n",
    "import torch\n",
    "import pickle\n",
    "import evaluation\n",
    "\n",
    "from datasets import load_from_disk"
   ]
  },
  {
   "cell_type": "code",
   "execution_count": 3,
   "id": "7feacc99",
   "metadata": {},
   "outputs": [],
   "source": [
    "train = False"
   ]
  },
  {
   "cell_type": "code",
   "execution_count": 4,
   "id": "d8fa9bf8",
   "metadata": {},
   "outputs": [],
   "source": [
    "TRAIN_DATA = paths.data/\"manzoni_train_tokens.csv\"\n",
    "OOD_DATA = paths.data/\"manzoni_dev_tokens.csv\"\n",
    "HF_DATA = paths.data/\"prepared\"\n",
    "torch.set_float32_matmul_precision(\"high\")   # enable TF32 matmuls on Ampere\n",
    "torch.backends.cudnn.allow_tf32 = True "
   ]
  },
  {
   "cell_type": "code",
   "execution_count": 5,
   "id": "4f383f5f",
   "metadata": {},
   "outputs": [],
   "source": [
    "import numpy as np\n",
    "from collections import Counter\n",
    "\n",
    "def check_labels(hfds_split, sample_rows=2000):\n",
    "    # Concatenate labels from a subset of rows (pad to same length already handled by collator)\n",
    "    n = min(sample_rows, len(hfds_split))\n",
    "    cats = []\n",
    "    for ex in hfds_split.select(range(n)):\n",
    "        labs = np.array(ex[\"labels\"])\n",
    "        cats.append(labs)\n",
    "    all_labs = np.concatenate(cats)\n",
    "    visible = all_labs[all_labs != -100]\n",
    "    uniq = np.unique(visible)\n",
    "    print(\"Unique visible labels:\", uniq)\n",
    "    bad = [x for x in uniq if x not in (0, 1)]\n",
    "    if bad:\n",
    "        print(\"❌ Found out-of-range labels:\", bad)\n",
    "    else:\n",
    "        print(\"✅ Labels look fine (only 0/1).\")\n",
    "    return uniq"
   ]
  },
  {
   "cell_type": "code",
   "execution_count": 6,
   "id": "12bed86b",
   "metadata": {},
   "outputs": [
    {
     "name": "stdout",
     "output_type": "stream",
     "text": [
      "{'deberta': {'eval_loss': 0.00109088362660259, 'eval_precision': 0.9898477157360406, 'eval_recall': 0.9982935153583617, 'eval_f1': 0.994052676295667, 'eval_accuracy': 0.9995906672124437, 'eval_runtime': 1.1752, 'eval_samples_per_second': 50.205, 'eval_steps_per_second': 6.807, 'epoch': 3.0}, 'modernbert': {'eval_loss': 0.007550484966486692, 'eval_precision': 0.976271186440678, 'eval_recall': 0.9473684210526315, 'eval_f1': 0.9616026711185309, 'eval_accuracy': 0.9972119522395296, 'eval_runtime': 0.8784, 'eval_samples_per_second': 15.939, 'eval_steps_per_second': 2.277, 'epoch': 3.0}, 'bert': {'eval_loss': 0.002381410449743271, 'eval_precision': 0.993127147766323, 'eval_recall': 0.9897260273972602, 'eval_f1': 0.9914236706689536, 'eval_accuracy': 0.9994210952877156, 'eval_runtime': 0.5338, 'eval_samples_per_second': 99.281, 'eval_steps_per_second': 13.113, 'epoch': 3.0}}\n"
     ]
    }
   ],
   "source": [
    "if train:\n",
    "    import importlib\n",
    "    importlib.reload(dataset)\n",
    "    importlib.reload(train)\n",
    "\n",
    "    import os\n",
    "    os.environ[\"CUDA_LAUNCH_BLOCKING\"] = \"1\"  # makes the exception point to the correct op\n",
    "\n",
    "    results = {}\n",
    "    for model_key in [\"deberta\", \"modernbert\", \"bert\"]:\n",
    "        pairs = dataset.read_token_label_file(TRAIN_DATA)\n",
    "        sents_tok, sents_lab = dataset.group_into_sentences(pairs)\n",
    "        ds_full = dataset.build_hf_dataset_for_token_classification(sents_tok, sents_lab, model_key=model_key)\n",
    "        split = ds_full.train_test_split(train_size=0.8, seed=69)\n",
    "        train_ds = dataset.tidy(split[\"train\"], model_key)\n",
    "        val_ds   = dataset.tidy(split[\"test\"], model_key)\n",
    "        train_ds.save_to_disk(HF_DATA/f\"{model_key}\"/\"train\")\n",
    "        val_ds.save_to_disk(HF_DATA/f\"{model_key}\"/\"val\")\n",
    "        _ = check_labels(train_ds)  # your ModernBERT train split\n",
    "        _ = check_labels(val_ds)\n",
    "        print(f\"\\n=== Training {model_key} -> {utils.MODEL_SPECS[model_key].name} ===\")\n",
    "        out_dir = str(paths.chekpoints / model_key)\n",
    "        results[model_key] = train.train_token_splitter(\n",
    "            train_ds, val_ds,\n",
    "            model_key=model_key, out_dir=out_dir,\n",
    "            lr=5e-5, batch_size=8, epochs=3,\n",
    "        )\n",
    "    with open(paths.results/\"token_class_eval.pkl\", \"wb\") as f:\n",
    "        pickle.dump(results, f)\n",
    "else:\n",
    "    with open(paths.results/\"token_class_eval.pkl\", \"rb\") as f:\n",
    "        results = pickle.load(f)\n",
    "\n",
    "print(results)"
   ]
  },
  {
   "cell_type": "code",
   "execution_count": 7,
   "id": "5f14dfa0",
   "metadata": {},
   "outputs": [
    {
     "data": {
      "text/html": [
       "<div>\n",
       "<style scoped>\n",
       "    .dataframe tbody tr th:only-of-type {\n",
       "        vertical-align: middle;\n",
       "    }\n",
       "\n",
       "    .dataframe tbody tr th {\n",
       "        vertical-align: top;\n",
       "    }\n",
       "\n",
       "    .dataframe thead th {\n",
       "        text-align: right;\n",
       "    }\n",
       "</style>\n",
       "<table border=\"1\" class=\"dataframe\">\n",
       "  <thead>\n",
       "    <tr style=\"text-align: right;\">\n",
       "      <th></th>\n",
       "      <th>eval_loss</th>\n",
       "      <th>eval_precision</th>\n",
       "      <th>eval_recall</th>\n",
       "      <th>eval_f1</th>\n",
       "      <th>eval_accuracy</th>\n",
       "      <th>eval_runtime</th>\n",
       "      <th>eval_samples_per_second</th>\n",
       "      <th>eval_steps_per_second</th>\n",
       "      <th>epoch</th>\n",
       "    </tr>\n",
       "  </thead>\n",
       "  <tbody>\n",
       "    <tr>\n",
       "      <th>deberta</th>\n",
       "      <td>0.001091</td>\n",
       "      <td>0.989848</td>\n",
       "      <td>0.998294</td>\n",
       "      <td>0.994053</td>\n",
       "      <td>0.999591</td>\n",
       "      <td>1.1752</td>\n",
       "      <td>50.205</td>\n",
       "      <td>6.807</td>\n",
       "      <td>3.0</td>\n",
       "    </tr>\n",
       "    <tr>\n",
       "      <th>bert</th>\n",
       "      <td>0.002381</td>\n",
       "      <td>0.993127</td>\n",
       "      <td>0.989726</td>\n",
       "      <td>0.991424</td>\n",
       "      <td>0.999421</td>\n",
       "      <td>0.5338</td>\n",
       "      <td>99.281</td>\n",
       "      <td>13.113</td>\n",
       "      <td>3.0</td>\n",
       "    </tr>\n",
       "    <tr>\n",
       "      <th>modernbert</th>\n",
       "      <td>0.007550</td>\n",
       "      <td>0.976271</td>\n",
       "      <td>0.947368</td>\n",
       "      <td>0.961603</td>\n",
       "      <td>0.997212</td>\n",
       "      <td>0.8784</td>\n",
       "      <td>15.939</td>\n",
       "      <td>2.277</td>\n",
       "      <td>3.0</td>\n",
       "    </tr>\n",
       "  </tbody>\n",
       "</table>\n",
       "</div>"
      ],
      "text/plain": [
       "            eval_loss  eval_precision  eval_recall   eval_f1  eval_accuracy  \\\n",
       "deberta      0.001091        0.989848     0.998294  0.994053       0.999591   \n",
       "bert         0.002381        0.993127     0.989726  0.991424       0.999421   \n",
       "modernbert   0.007550        0.976271     0.947368  0.961603       0.997212   \n",
       "\n",
       "            eval_runtime  eval_samples_per_second  eval_steps_per_second  \\\n",
       "deberta           1.1752                   50.205                  6.807   \n",
       "bert              0.5338                   99.281                 13.113   \n",
       "modernbert        0.8784                   15.939                  2.277   \n",
       "\n",
       "            epoch  \n",
       "deberta       3.0  \n",
       "bert          3.0  \n",
       "modernbert    3.0  "
      ]
     },
     "execution_count": 7,
     "metadata": {},
     "output_type": "execute_result"
    }
   ],
   "source": [
    "import pandas as pd\n",
    "pd.DataFrame(results).T.sort_values(\"eval_f1\", ascending=False)"
   ]
  },
  {
   "cell_type": "code",
   "execution_count": 20,
   "id": "4817667a",
   "metadata": {},
   "outputs": [
    {
     "name": "stderr",
     "output_type": "stream",
     "text": [
      "/home/user/mnlp/notebooks/../src/evaluation.py:23: FutureWarning: `tokenizer` is deprecated and will be removed in version 5.0.0 for `Trainer.__init__`. Use `processing_class` instead.\n",
      "  trainer = Trainer(\n"
     ]
    },
    {
     "data": {
      "text/html": [],
      "text/plain": [
       "<IPython.core.display.HTML object>"
      ]
     },
     "metadata": {},
     "output_type": "display_data"
    },
    {
     "name": "stderr",
     "output_type": "stream",
     "text": [
      "Trainer.tokenizer is now deprecated. You should use Trainer.processing_class instead.\n",
      "Trainer.tokenizer is now deprecated. You should use Trainer.processing_class instead.\n"
     ]
    },
    {
     "name": "stdout",
     "output_type": "stream",
     "text": [
      "\n",
      "Window 0 — predicted 11 sentences:\n",
      "\",\" ▁il ▁ ▁si ▁moss ▁ ▁Gert ▁ ▁la ▁princip ▁ ▁il ▁principi ▁lo ▁seguir ▁ ▁sce ▁tutti ▁le ▁scale ▁ ▁ ▁monta ▁in ▁carro ▁ | ▁Gl ▁imp ▁ ▁le ▁noi ▁del ▁mondo ▁ ▁ ▁la ▁vita ▁beat ▁del ▁chi ▁ ▁principal ▁per ▁le ▁ ▁di ▁sangu ▁ ▁ ▁fur ▁il ▁tema ▁ ▁conversa ▁ ▁d ▁il ▁tragi ▁ | ▁Sul ▁ ▁ ▁strada ▁ ▁il ▁ ▁rinn ▁ ▁ ▁alla ▁ ▁ ▁ ▁le ▁ripet ▁p ▁ ▁la ▁form ▁ ▁ri ▁ | ▁All ▁entra ▁in ▁Mon ▁ ▁Gert ▁si ▁sent ▁string ▁il ▁cu ▁ ▁ma ▁la ▁sua ▁at ▁fu ▁att ▁per ▁un ▁ist ▁da ▁non ▁so ▁quali ▁ ▁che ▁ ▁ ▁ferma ▁la ▁carro ▁ ▁recita ▁non ▁so ▁qual ▁compliment ▁ | ▁Ri ▁il ▁cam ▁ ▁ ▁and ▁quasi ▁di ▁ ▁al ▁monast ▁ ▁tra ▁gli ▁ ▁de ▁curios ▁ ▁che ▁accor ▁da ▁ ▁le ▁parti ▁ ▁strada ▁ | ▁Al ▁ferm ▁ ▁carro ▁ ▁d ▁ ▁ ▁mura ▁ ▁d ▁ ▁quell ▁porta ▁ ▁il ▁cu ▁si ▁stri ▁ ▁p ▁ ▁Gert ▁ | ▁Si ▁ ▁tra ▁due ▁ale ▁di ▁popol ▁ ▁che ▁ ▁servi ▁face ▁stare ▁indie ▁ | ▁ ▁que ▁ ▁add ▁alla ▁pover ▁ ▁ ▁ ▁studi ▁continu ▁il ▁suo ▁conte ▁ ▁ma ▁p ▁di ▁tutti ▁quell ▁in ▁ ▁la ▁ten ▁in ▁sugg ▁ ▁due ▁del ▁padre ▁ ▁ ▁quali ▁essa ▁ ▁quant ▁ne ▁av ▁cos ▁gran ▁pa ▁ ▁non ▁po ▁ ▁di ▁ ▁ ▁suo ▁ ▁ ▁momento ▁ | ▁E ▁que ▁ ▁govern ▁le ▁su ▁moss ▁ ▁il ▁suo ▁ ▁ ▁come ▁per ▁m ▁di ▁red ▁in ▁ | ▁Attra ▁il ▁primo ▁corti ▁ ▁ ▁ ▁in ▁un ▁ ▁ ▁ ▁ ▁si ▁vide ▁la ▁porta ▁del ▁chi ▁interno ▁ ▁spal ▁ ▁ ▁occupa ▁da ▁mona ▁ | ▁Nell ▁prima ▁fila ▁ ▁la ▁ba ▁circo ▁da ▁\n",
      "\n",
      "Window 1 — predicted 14 sentences:\n",
      "evano ▁ ▁ ▁ces ▁ ▁di ▁neve ▁ ▁spor ▁da ▁un ▁diru ▁ ▁al ▁chiar ▁di ▁luna ▁ | ▁« ▁Ah ▁ ▁ah ▁ ▁» ▁fu ▁il ▁suo ▁salut ▁ ▁ ▁si ▁le ▁gli ▁ ▁ ▁ ▁li ▁rip ▁nel ▁ ▁ | ▁« ▁Dir ▁il ▁ ▁curat ▁ ▁che ▁son ▁v ▁ ▁ ▁» ▁disse ▁Toni ▁ ▁in ▁ ▁come ▁pure ▁fec ▁ ▁ma ▁p ▁go ▁ ▁Ger ▁ | ▁« ▁Si ▁ch ▁ ▁ ▁ ▁ ▁in ▁ ▁le ▁manier ▁ | ▁Lo ▁sa ▁ ▁che ▁sono ▁amma ▁ ▁» | ▁« ▁Oh ▁ ▁mi ▁dis ▁ ▁» | ▁« ▁L ▁av ▁senti ▁dire ▁ ▁sono ▁amma ▁ ▁ ▁non ▁so ▁ ▁potr ▁ ▁ ▁... | ▁Ma ▁per ▁vi ▁ ▁con ▁die ▁quel ▁... ▁quel ▁ ▁ ▁» | ▁« ▁Co ▁per ▁ ▁ ▁ ▁curat ▁ ▁» | ▁« ▁ ▁ ▁ved ▁ ▁» | ▁« ▁Son ▁venti ▁berlin ▁nuov ▁ ▁di ▁ ▁col ▁sant ▁Ambro ▁ ▁ ▁ ▁» ▁disse ▁Toni ▁ ▁lev ▁un ▁in ▁di ▁tas ▁ | ▁« ▁Ved ▁ ▁» ▁repli ▁don ▁Abb ▁ ▁ ▁ ▁preso ▁ ▁in ▁ ▁si ▁ri ▁gli ▁ ▁ ▁ ▁apr ▁ ▁ ▁le ▁berlin ▁ ▁le ▁con ▁ ▁le ▁volt ▁ ▁le ▁ ▁ ▁le ▁trov ▁ ▁di ▁ | ▁« ▁Ora ▁ ▁ ▁curat ▁ ▁mi ▁dar ▁la ▁colla ▁ ▁mia ▁Tec ▁ ▁» | ▁« ▁È ▁giust ▁ ▁» ▁rispo ▁don ▁Abb ▁ ▁poi ▁and ▁ ▁un ▁ ▁ ▁si ▁lev ▁una ▁chia ▁di ▁tas ▁ ▁ ▁ ▁guard ▁in ▁ ▁come ▁per ▁ ▁ ▁gli ▁spett ▁ ▁apr ▁una ▁parte ▁di ▁sport ▁ ▁ri ▁ ▁ ▁con ▁la ▁persona ▁ ▁mise ▁ ▁la ▁testa ▁ ▁per ▁guarda ▁ ▁ ▁un ▁b ▁ ▁per ▁ ▁la ▁colla ▁ ▁la ▁prese ▁ ▁ ▁ ▁ ▁ ▁ ▁ ▁la ▁conseg\n",
      "\n",
      "Window 2 — predicted 7 sentences:\n",
      "▁gli ▁veni ▁ ▁ ▁ ▁di ▁predica ▁ ▁d ▁assist ▁ ▁mori ▁ ▁non ▁ ▁mai ▁sf ▁un ▁occasion ▁d ▁ ▁due ▁ ▁ ▁che ▁ ▁era ▁impost ▁da ▁sé ▁ ▁ac ▁differenz ▁ ▁ ▁proteg ▁op ▁ | ▁In ▁ ▁ ▁entra ▁ ▁per ▁qual ▁parte ▁ ▁ ▁ch ▁ ▁se ▁ ▁av ▁ ▁quell ▁sua ▁ ▁ab ▁ ▁ ▁un ▁ ▁di ▁spirit ▁ ▁ ▁che ▁ ▁ ▁ ▁le ▁macer ▁non ▁av ▁pot ▁sp ▁del ▁ ▁ | ▁Il ▁suo ▁lingu ▁era ▁abi ▁um ▁ ▁pos ▁ ▁ma ▁ ▁ ▁si ▁tratt ▁di ▁gi ▁ ▁di ▁ver ▁combat ▁ ▁ ▁ ▁ ▁anima ▁ ▁ ▁un ▁ ▁ ▁dell ▁impe ▁antic ▁ ▁che ▁ ▁second ▁ ▁modificat ▁da ▁un ▁en ▁solen ▁ ▁ ▁dall ▁uso ▁del ▁predica ▁ ▁dava ▁ ▁quel ▁lingu ▁un ▁ ▁sing ▁ | ▁ ▁il ▁suo ▁conte ▁ ▁come ▁ ▁aspett ▁ ▁ann ▁una ▁ ▁ ▁ ▁tra ▁un ▁indo ▁foc ▁ ▁ri ▁ ▁ ▁una ▁volont ▁oppos ▁ ▁abi ▁vit ▁ ▁sempre ▁all ▁er ▁ ▁ ▁diret ▁da ▁ ▁ ▁da ▁ ▁superior ▁ | ▁Un ▁suo ▁con ▁ ▁ ▁ ▁che ▁lo ▁conosce ▁bene ▁ ▁ ▁av ▁una ▁volta ▁para ▁ ▁ ▁ ▁ ▁es ▁ ▁ ▁forma ▁naturale ▁ ▁che ▁al ▁ ▁ ▁ben ▁educati ▁ ▁pronun ▁ ▁ ▁la ▁passion ▁tra ▁ ▁smo ▁ ▁con ▁qual ▁letter ▁mutat ▁ ▁ ▁che ▁ ▁in ▁quel ▁trav ▁ ▁fan ▁per ▁ricord ▁ ▁ ▁energia ▁primitiv ▁ | ▁Se ▁una ▁pover ▁ ▁ ▁nel ▁trist ▁caso ▁di ▁Lucia ▁ ▁av ▁ch ▁ ▁ ▁del ▁padre ▁Cristo ▁ ▁ ▁sa ▁ ▁im ▁ | ▁Trat ▁poi ▁di ▁Lucia ▁ ▁accor ▁con ▁tanta\n"
     ]
    },
    {
     "data": {
      "text/html": [],
      "text/plain": [
       "<IPython.core.display.HTML object>"
      ]
     },
     "metadata": {},
     "output_type": "display_data"
    },
    {
     "name": "stderr",
     "output_type": "stream",
     "text": [
      "Trainer.tokenizer is now deprecated. You should use Trainer.processing_class instead.\n"
     ]
    },
    {
     "name": "stdout",
     "output_type": "stream",
     "text": [
      "\n",
      "Example 0 — 8 predicted sentences:\n",
      " • \",\" il si moss Gert la princip il principi lo seguir sce tutti le scale monta in carro Gl imp le noi del mondo la vita\n",
      " • beat del chi principal per le di sangu fur il tema conversa d il tragi Sul strada il rinn alla le ripet p la form ri All entra in Mon Gert si sent\n",
      " • string il cu ma la sua at fu att per un ist da non so quali che ferma la carro recita non so\n",
      " • qual compliment Ri il cam and quasi di al monast tra gli de curios che accor da le parti strada Al ferm carro d mura d quell porta il cu si stri p Gert Si tra due ale di\n",
      " • popol che servi face stare indie que add alla pover studi continu il suo conte ma p di tutti quell in la ten in sugg due del\n",
      " • padre quali essa quant ne av cos gran pa non po di suo momento E que govern le su moss il suo come per\n",
      " • m di red in Attra il primo corti in un si vide la porta del\n",
      " • chi interno spal occupa da mona Nell prima fila la ba circo da\n",
      "\n",
      "Example 1 — 12 predicted sentences:\n",
      " • evano ces di neve spor da un diru al chiar di luna « Ah ah » fu il\n",
      " • suo salut si le gli li rip nel « Dir il curat che son v » disse Toni in come pure fec ma\n",
      " • p go Ger « Si ch in le manier Lo sa che sono amma » « Oh mi dis » « L av senti dire sono amma\n",
      " • non so potr ... Ma per vi con die quel ... quel\n",
      " • » « Co per curat » « ved\n",
      " • » « Son venti berlin nuov di\n",
      " • col sant Ambro » disse Toni lev un in di tas « Ved » repli don Abb\n",
      " • preso in si ri gli apr le berlin le con le volt\n",
      " • le le trov di « Ora curat mi dar\n",
      " • la colla mia Tec » «\n",
      " • È giust » rispo don Abb poi and un si lev una chia di tas guard in come per gli spett apr una parte\n",
      " • di sport ri con la persona mise la testa per guarda un b per la colla la prese la conseg\n",
      "\n",
      "Example 2 — 4 predicted sentences:\n",
      " • gli veni di predica d assist mori non mai sf un occasion d due che era impost da sé ac differenz proteg op In entra per qual parte ch se av quell sua ab un di spirit che\n",
      " • le macer non av pot sp del Il suo lingu era abi um pos ma si tratt di gi di ver combat anima un dell impe antic che second modificat da un en solen dall uso del predica dava quel lingu\n",
      " • un sing il suo conte come aspett ann una tra un indo foc ri una volont oppos abi vit sempre all er diret da da superior Un suo con che lo conosce bene av una volta para es forma naturale che al ben educati pronun la passion tra smo con qual letter mutat che in quel trav fan\n",
      " • per ricord energia primitiv Se una pover nel trist caso di Lucia av ch del padre Cristo sa im Trat poi di Lucia accor con tanta\n"
     ]
    },
    {
     "data": {
      "text/html": [],
      "text/plain": [
       "<IPython.core.display.HTML object>"
      ]
     },
     "metadata": {},
     "output_type": "display_data"
    },
    {
     "name": "stderr",
     "output_type": "stream",
     "text": [
      "Trainer.tokenizer is now deprecated. You should use Trainer.processing_class instead.\n"
     ]
    },
    {
     "name": "stdout",
     "output_type": "stream",
     "text": [
      "\n",
      "### Example 0 — 11 predicted sentences\n",
      "\n",
      " • \",\" il principe si mosse ; Gertrude \",\" la principessa e il principino lo seguirono ; scesero tutti le scale \",\" e montarono in carrozza .\n",
      " • Gl' impicci e le noie del mondo \",\" e la vita beata del chiostro \",\" principalmente per le giovani di sangue nobilissimo \",\" furono il tema della conversazione \",\" durante il tragitto .\n",
      " • Sul finir della strada \",\" il principe rinnovò l' istruzioni alla figlia \",\" e le ripeté più volte la formola della risposta .\n",
      " • All' entrare in Monza \",\" Gertrude si sentì stringere il cuore ; ma la sua attenzione fu attirata per un istante da non so quali signori che \",\" fatta fermar la carrozza \",\" recitarono non so qual complimento .\n",
      " • Ripreso il cammino \",\" s' andò quasi di passo al monastero \",\" tra gli sguardi de' curiosi \",\" che accorrevano da tutte le parti sulla strada .\n",
      " • Al fermarsi della carrozza \",\" davanti a quelle mura \",\" davanti a quella porta \",\" il cuore si strinse ancor più a Gertrude .\n",
      " • Si smontò tra due ale di popolo \",\" che i servitori facevano stare indietro .\n",
      " • Tutti quegli occhi addosso alla poveretta l' obbligavano a studiar continuamente il suo contegno : ma più di tutti quelli insieme \",\" la tenevano in suggezione i due del padre \",\" a' quali essa \",\" quantunque ne avesse così gran paura \",\" non poteva lasciar di rivolgere i suoi \",\" ogni momento .\n",
      " • E quegli occhi governavano le sue mosse e il suo volto \",\" come per mezzo di redini invisibili .\n",
      " • Attraversato il primo cortile \",\" s' entrò in un altro \",\" e lì si vide la porta del chiostro interno \",\" spalancata e tutta occupata da monache .\n",
      " • Nella prima fila \",\" la badessa circondata da anzia\n",
      "\n",
      "### Example 1 — 14 predicted sentences\n",
      "\n",
      " • evano assomigliarsi a cespugli coperti di neve \",\" sporgenti da un dirupo \",\" al chiaro di luna .\n",
      " • « Ah ! ah ! » fu il suo saluto \",\" mentre si levava gli occhiali \",\" e li riponeva nel libricciolo .\n",
      " • « Dirà il signor curato \",\" che son venuto tardi \",\" » disse Tonio \",\" inchinandosi \",\" come pure fece \",\" ma più goffamente \",\" Gervaso .\n",
      " • « Sicuro ch' è tardi : tardi in tutte le maniere .\n",
      " • Lo sapete \",\" che sono ammalato ? » «\n",
      " • Oh ! mi dispiace . » «\n",
      " • L' avrete sentito dire ; sono ammalato \",\" e non so quando potrò lasciarmi vedere ... Ma\n",
      " • perché vi siete condotto dietro quel ... quel figliuolo ? » «\n",
      " • Così per compagnia \",\" signor curato . » «\n",
      " • Basta \",\" vediamo . » «\n",
      " • Son venticinque berlinghe nuove \",\" di quelle col sant' Ambrogio a cavallo \",\" » disse Tonio \",\" levandosi un involtino di tasca .\n",
      " • « Vediamo \",\" » replicò don Abbondio : e \",\" preso l' involtino \",\" si rimesse gli occhiali \",\" l' aprì \",\" cavò le berlinghe \",\" le contò \",\" le voltò \",\" le rivoltò \",\" le trovò senza difetto .\n",
      " • « Ora \",\" signor curato \",\" mi darà la collana della mia Tecla . » «\n",
      " • È giusto \",\" » rispose don Abbondio ; poi andò a un armadio \",\" si levò una chiave di tasca \",\" e \",\" guardandosi intorno \",\" come per tener lontani gli spettatori \",\" aprì una parte di sportello \",\" riempì l' apertura con la persona \",\" mise dentro la testa \",\" per guardare \",\" e un braccio \",\" per prender la collana ; la prese \",\" e \",\" chiuso l' armadio \",\" la consegnò\n"
     ]
    },
    {
     "data": {
      "text/html": [],
      "text/plain": [
       "<IPython.core.display.HTML object>"
      ]
     },
     "metadata": {},
     "output_type": "display_data"
    },
    {
     "name": "stdout",
     "output_type": "stream",
     "text": [
      "\n",
      "### Window 1\n",
      "P: evano assomigliarsi a cespugli coperti di neve \",\" sporgenti da un dirupo \",\" al chiaro di luna . | « Ah ! ah ! » fu il suo saluto \",\" mentre si levava gli occhiali \",\" e li riponeva nel libricciolo . | « Dirà il signor curato \",\" che son venuto tardi \",\" » disse Tonio \",\" inchinandosi \",\" come pure fece \",\" ma più goffamente \",\" Gervaso . | « Sicuro ch' è tardi : tardi in tutte le maniere . | Lo sapete \",\" che sono ammalato ? » « | Oh ! mi dispiace . » « | L' avrete sentito dire ; sono ammalato \",\" e non so quando potrò lasciarmi vedere ... Ma | perché vi siete condotto dietro quel ... quel figliuolo ? » « | Così per compagnia \",\" signor curato . » « | Basta \",\" vediamo . » « | Son venticinque berlinghe nuove \",\" di quelle col sant' Ambrogio a cavallo \",\" » disse Tonio \",\" levandosi un involtino di tasca . | « Vediamo \",\" » replicò don Abbondio : e \",\" preso l' involtino \",\" si rimesse gli occhiali \",\" l' aprì \",\" cavò le berlinghe \",\" le contò \",\" le voltò \",\" le rivoltò \",\" le trovò senza difetto . | « Ora \",\" signor curato \",\" mi darà la collana della mia Tecla . » « | È giusto \",\" » rispose don Abbondio ; poi andò a un armadio \",\" si levò una chiave di tasca \",\" e \",\" guardandosi intorno \",\" come per tener lontani gli spettatori \",\" aprì una parte di sportello \",\" riempì l' apertura con la persona \",\" mise dentro la testa \",\" per guardare \",\" e un braccio \",\" per prender la collana ; la prese \",\" e \",\" chiuso l' armadio \",\" la consegnò\n",
      "G: evano assomigliarsi a cespugli coperti di neve \",\" sporgenti da un dirupo \",\" al chiaro di luna . | « Ah ! ah ! » fu il suo saluto \",\" mentre si levava gli occhiali \",\" e li riponeva nel libricciolo . | « Dirà il signor curato \",\" che son venuto tardi \",\" » disse Tonio \",\" inchinandosi \",\" come pure fece \",\" ma più goffamente \",\" Gervaso . | « Sicuro ch' è tardi : tardi in tutte le maniere . | Lo sapete \",\" che sono ammalato ? » « | Oh ! mi dispiace . » « | L' avrete sentito dire ; sono ammalato \",\" e non so quando potrò lasciarmi vedere ... Ma | perché vi siete condotto dietro quel ... quel figliuolo ? » « | Così per compagnia \",\" signor curato . » « | Basta \",\" vediamo . » « | Son venticinque berlinghe nuove \",\" di quelle col sant' Ambrogio a cavallo \",\" » disse Tonio \",\" levandosi un involtino di tasca . | « Vediamo \",\" » replicò don Abbondio : e \",\" preso l' involtino \",\" si rimesse gli occhiali \",\" l' aprì \",\" cavò le berlinghe \",\" le contò \",\" le voltò \",\" le rivoltò \",\" le trovò senza difetto . | « Ora \",\" signor curato \",\" mi darà la collana della mia Tecla . » « | È giusto \",\" » rispose don Abbondio ; poi andò a un armadio \",\" si levò una chiave di tasca \",\" e \",\" guardandosi intorno \",\" come per tener lontani gli spettatori \",\" aprì una parte di sportello \",\" riempì l' apertura con la persona \",\" mise dentro la testa \",\" per guardare \",\" e un braccio \",\" per prender la collana ; la prese \",\" e \",\" chiuso l' armadio \",\" la consegnò\n",
      "\n",
      "### Window 2\n",
      "P: gli venivano ordinariamente assegnati \",\" di predicare e d' assistere i moribondi \",\" non lasciava mai sfuggire un' occasione d' esercitarne due altri \",\" che s' era imposti da sé : accomodar differenze \",\" e proteggere oppressi . | In questo genio entrava \",\" per qualche parte \",\" senza ch' egli se n' avvedesse \",\" quella sua vecchia abitudine \",\" e un resticciolo di spiriti guerreschi \",\" che l' umiliazioni e le macerazioni non avevan potuto spegner del tutto . | Il suo linguaggio era abitualmente umile e posato ; ma \",\" quando si trattasse di giustizia o di verità combattuta \",\" l' uomo s' animava \",\" a un tratto \",\" dell' impeto antico \",\" che \",\" secondato e modificato da un' enfasi solenne \",\" venutagli dall' uso del predicare \",\" dava a quel linguaggio un carattere singolare . | Tutto il suo contegno \",\" come l' aspetto \",\" annunziava una lunga guerra \",\" tra un' indole focosa \",\" risentita \",\" e una volontà opposta \",\" abitualmente vittoriosa \",\" sempre all' erta \",\" e diretta da motivi e da ispirazioni superiori . | Un suo confratello ed amico \",\" che lo conosceva bene \",\" l' aveva una volta paragonato a quelle parole troppo espressive nella loro forma naturale \",\" che alcuni \",\" anche ben educati \",\" pronunziano \",\" quando la passione trabocca \",\" smozzicate \",\" con qualche lettera mutata ; parole che \",\" in quel travisamento \",\" fanno però ricordare della loro energia primitiva . | Se una poverella sconosciuta \",\" nel tristo caso di Lucia \",\" avesse chiesto l' aiuto del padre Cristoforo \",\" egli sarebbe corso immediatamente . | Trattandosi poi di Lucia \",\" accorse con tanta\n",
      "G: gli venivano ordinariamente assegnati \",\" di predicare e d' assistere i moribondi \",\" non lasciava mai sfuggire un' occasione d' esercitarne due altri \",\" che s' era imposti da sé : accomodar differenze \",\" e proteggere oppressi . | In questo genio entrava \",\" per qualche parte \",\" senza ch' egli se n' avvedesse \",\" quella sua vecchia abitudine \",\" e un resticciolo di spiriti guerreschi \",\" che l' umiliazioni e le macerazioni non avevan potuto spegner del tutto . | Il suo linguaggio era abitualmente umile e posato ; ma \",\" quando si trattasse di giustizia o di verità combattuta \",\" l' uomo s' animava \",\" a un tratto \",\" dell' impeto antico \",\" che \",\" secondato e modificato da un' enfasi solenne \",\" venutagli dall' uso del predicare \",\" dava a quel linguaggio un carattere singolare . | Tutto il suo contegno \",\" come l' aspetto \",\" annunziava una lunga guerra \",\" tra un' indole focosa \",\" risentita \",\" e una volontà opposta \",\" abitualmente vittoriosa \",\" sempre all' erta \",\" e diretta da motivi e da ispirazioni superiori . | Un suo confratello ed amico \",\" che lo conosceva bene \",\" l' aveva una volta paragonato a quelle parole troppo espressive nella loro forma naturale \",\" che alcuni \",\" anche ben educati \",\" pronunziano \",\" quando la passione trabocca \",\" smozzicate \",\" con qualche lettera mutata ; parole che \",\" in quel travisamento \",\" fanno però ricordare della loro energia primitiva . | Se una poverella sconosciuta \",\" nel tristo caso di Lucia \",\" avesse chiesto l' aiuto del padre Cristoforo \",\" egli sarebbe corso immediatamente . | Trattandosi poi di Lucia \",\" accorse con tanta\n",
      "\n",
      "### Window 3\n",
      "P: ? voi ? | E chi più di voi l' ha vicino ? | Non ve lo sentite in cuore \",\" che v' opprime \",\" che v' agita \",\" che non vi lascia stare \",\" e nello stesso tempo v' attira \",\" vi fa presentire una speranza di quiete \",\" di consolazione \",\" d' una consolazione che sarà piena \",\" immensa \",\" subito che voi lo riconosciate \",\" lo confessiate \",\" l' imploriate ? » « | Oh \",\" certo ! ho qui qualche cosa che m' opprime \",\" che mi rode ! | Ma Dio ! | Se c' è questo Dio \",\" se è quello che dicono \",\" cosa volete che faccia di me ? » Quest | e parole furon dette con un accento disperato ; ma Federigo \",\" con un tono solenne \",\" come di placida ispirazione \",\" rispose : « cosa può far Dio di voi ? cosa vuol farne ? | Un segno della sua potenza e della sua bontà : vuol cavar da voi una gloria che nessun altro gli potrebbe dare . | Che il mondo gridi da tanto tempo contro di voi \",\" che mille e mille voci detestino le vostre opere ... » ( l' innominato si scosse \",\" e rimase stupefatto un momento nel sentir quel linguaggio così insolito \",\" più stupefatto ancora di non provarne sdegno \",\" anzi quasi un sollievo ) ; « che gloria \",\" » proseguiva Federigo \",\" « ne viene a Dio ? | Son voci di terrore \",\" son voci d' interesse ; voci forse anche di giustizia \",\" ma d' una giustizia così facile \",\" così naturale ! alcune forse \",\" pur troppo \",\" d' invidia di codesta vostra sciagurata potenza \",\" di codesta \",\" fino ad oggi \",\" deplorabile sicurezza d' animo . | Ma quando voi stesso sorgerete a condannare la vostra\n",
      "G: ? voi ? | E chi più di voi l' ha vicino ? | Non ve lo sentite in cuore \",\" che v' opprime \",\" che v' agita \",\" che non vi lascia stare \",\" e nello stesso tempo v' attira \",\" vi fa presentire una speranza di quiete \",\" di consolazione \",\" d' una consolazione che sarà piena \",\" immensa \",\" subito che voi lo riconosciate \",\" lo confessiate \",\" l' imploriate ? » « | Oh \",\" certo ! ho qui qualche cosa che m' opprime \",\" che mi rode ! | Ma Dio ! | Se c' è questo Dio \",\" se è quello che dicono \",\" cosa volete che faccia di me ? » Quest | e parole furon dette con un accento disperato ; ma Federigo \",\" con un tono solenne \",\" come di placida ispirazione \",\" rispose : « cosa può far Dio di voi ? cosa vuol farne ? | Un segno della sua potenza e della sua bontà : vuol cavar da voi una gloria che nessun altro gli potrebbe dare . | Che il mondo gridi da tanto tempo contro di voi \",\" che mille e mille voci detestino le vostre opere ... » ( l' innominato si scosse \",\" e rimase stupefatto un momento nel sentir quel linguaggio così insolito \",\" più stupefatto ancora di non provarne sdegno \",\" anzi quasi un sollievo ) ; « che gloria \",\" » proseguiva Federigo \",\" « ne viene a Dio ? | Son voci di terrore \",\" son voci d' interesse ; voci forse anche di giustizia \",\" ma d' una giustizia così facile \",\" così naturale ! alcune forse \",\" pur troppo \",\" d' invidia di codesta vostra sciagurata potenza \",\" di codesta \",\" fino ad oggi \",\" deplorabile sicurezza d' animo . | Ma quando voi stesso sorgerete a condannare la vostra\n"
     ]
    }
   ],
   "source": [
    "import importlib\n",
    "importlib.reload(evaluation)\n",
    "best_key = max(results, key=lambda k: results[k][\"eval_f1\"])\n",
    "model_dir = paths.chekpoints/best_key\n",
    "best_trainer = evaluation.load_trainer_for_eval(model_dir, HF_DATA/best_key/\"val\")\n",
    "val_ds = load_from_disk(HF_DATA/best_key/\"val\")\n",
    "\n",
    "pred = best_trainer.predict(val_ds)  # logits + label_ids as np arrays\n",
    "logits = pred.predictions\n",
    "label_ids = pred.label_ids\n",
    "tok = best_trainer.tokenizer\n",
    "\n",
    "def sentences_from_word_seq(words, y_pred):\n",
    "    sents, cur = [], []\n",
    "    for w, b in zip(words, y_pred):\n",
    "        cur.append(w)\n",
    "        if b == 1:\n",
    "            sents.append(cur); cur = []\n",
    "    if cur: sents.append(cur)\n",
    "    return sents\n",
    "\n",
    "for i in range(min(3, len(val_ds))):\n",
    "    ids = val_ds[i][\"input_ids\"]\n",
    "    words = tok.convert_ids_to_tokens(ids)\n",
    "\n",
    "    mask = (label_ids[i] != -100)          # np.bool_ array\n",
    "    y_pred = logits[i].argmax(-1)[mask]    # predicted boundary labels at visible positions\n",
    "    visible_words = [w for w, m in zip(words, mask.tolist()) if m]\n",
    "\n",
    "    sents = sentences_from_word_seq(visible_words, y_pred)\n",
    "    print(f\"\\nWindow {i} — predicted {len(sents)} sentences:\")\n",
    "    print(\" | \".join([\" \".join(s) for s in sents]))\n",
    "\n",
    "\n",
    "evaluation.preview_predictions(best_trainer, val_ds, k=3)\n",
    "evaluation.preview_full_sentences(best_trainer, val_ds, n_examples=2)\n",
    "evaluation.preview_pred_vs_gold(best_trainer, val_ds, [1,2,3])"
   ]
  },
  {
   "cell_type": "code",
   "execution_count": 21,
   "id": "4912b939",
   "metadata": {},
   "outputs": [
    {
     "data": {
      "text/html": [],
      "text/plain": [
       "<IPython.core.display.HTML object>"
      ]
     },
     "metadata": {},
     "output_type": "display_data"
    },
    {
     "name": "stderr",
     "output_type": "stream",
     "text": [
      "Trainer.tokenizer is now deprecated. You should use Trainer.processing_class instead.\n",
      "Trainer.tokenizer is now deprecated. You should use Trainer.processing_class instead.\n"
     ]
    },
    {
     "name": "stdout",
     "output_type": "stream",
     "text": [
      "▁» ▁ ▁qui ▁una ▁buon ▁bestemm ▁ ▁« ▁ ▁chi ▁lo ▁far ▁non ▁se ▁ne ▁pent ▁ ▁per ▁non ▁ne ▁av ▁tempo ▁ ▁ ▁... ▁» ▁un ▁ ▁bestemm ▁▌ ▁« ▁Zit ▁ ▁zit ▁ ▁» ▁ri ▁il ▁primo ▁or ▁ ▁« ▁il ▁ ▁curat ▁ ▁un ▁ ▁che ▁sa ▁il ▁ ▁del ▁mondo ▁ ▁ ▁noi ▁si ▁gal ▁ ▁che ▁non ▁v ▁far ▁del ▁male ▁ ▁pur ▁ ▁ ▁▌ ▁Sign ▁curat ▁ ▁ ▁illustr ▁ ▁don ▁Rodrig ▁ ▁ ▁la ▁river ▁car ▁ ▁»▌ ▁ ▁nome ▁fu ▁ ▁ ▁ ▁di ▁don ▁Abb ▁ ▁come ▁ ▁nel ▁forte ▁d ▁un ▁temporal ▁not ▁ ▁un ▁lamp ▁che ▁illumina ▁moment ▁ ▁in ▁confus ▁gli ▁ ▁ ▁ ▁ac ▁il ▁terror ▁▌ ▁Fe ▁ ▁come ▁per ▁ist ▁ ▁un ▁grand ▁in ▁ ▁ ▁disse ▁ ▁« ▁se ▁mi ▁sape ▁sugger ▁... ▁»▌ ▁« ▁Oh ▁ ▁sugger ▁ ▁lei ▁che ▁sa ▁di ▁latino ▁ ▁» ▁interrup ▁ ▁il ▁ ▁ ▁con ▁un ▁ris ▁tra ▁lo ▁ ▁ ▁il ▁fero ▁▌ ▁« ▁A ▁lei ▁to ▁▌ ▁E ▁sopra ▁ ▁ ▁non ▁si ▁ ▁ ▁parola ▁su ▁ ▁av ▁ ▁che ▁le ▁ ▁dato ▁per ▁suo ▁bene ▁ ▁alt ▁... ▁ ▁... ▁sa ▁lo ▁ ▁che ▁fare ▁quel ▁tal ▁ ▁▌ ▁Via ▁ ▁che ▁vuo ▁che ▁si ▁dica ▁in ▁suo ▁nome ▁all ▁illustr ▁ ▁don ▁Rodrig ▁ ▁»▌ ▁« ▁Il ▁mio ▁ ▁... ▁»▌ ▁« ▁Si ▁spieg ▁me ▁ ▁»▌ ▁« ▁...▌ ▁Dis ▁... ▁dispos ▁sempre ▁all ▁ ▁ ▁»▌ ▁E ▁ ▁prof ▁ ▁ ▁ ▁non ▁sape ▁nem ▁lui ▁se ▁face ▁una ▁pro ▁ ▁ ▁un ▁compliment ▁▌ ▁I ▁brav ▁le ▁pres ▁ ▁ ▁mostra ▁di ▁ ▁nel ▁significat ▁p ▁serio ▁▌ ▁« ▁Ben ▁ ▁ ▁buon ▁ ▁ ▁m ▁ ▁» ▁disse ▁ ▁un ▁d ▁ ▁ ▁in ▁att ▁di ▁ ▁col ▁ ▁▌ ▁Don ▁Abb ▁ ▁che ▁ ▁ ▁moment ▁prima ▁ ▁av\n",
      "\",\" ▁ ▁ ▁ ▁ ▁come ▁sopra ▁ ▁di ▁tre ▁scu ▁ ▁ ▁ ▁son ▁ ▁che ▁cov ▁tre ▁scu ▁ ▁ ▁per ▁is ▁cos ▁bene ▁ ▁da ▁ ▁applicat ▁ ▁per ▁ ▁due ▁ ▁alla ▁regi ▁Camera ▁ ▁ ▁ ▁ ▁all ▁accus ▁ ▁del ▁ ▁quel ▁bel ▁ce ▁▌ ▁Ed ▁in ▁caso ▁di ▁in ▁ ▁c ▁anni ▁di ▁galer ▁ ▁ ▁ ▁pena ▁pe ▁ ▁ ▁ ▁all ▁arbitr ▁di ▁sua ▁ ▁▌ ▁Ob ▁alle ▁su ▁ ▁▌ ▁–▌ ▁A ▁ ▁ ▁ ▁ ▁oste ▁to ▁la ▁ ▁del ▁p ▁di ▁gi ▁▌ ▁L ▁ ▁come ▁ ▁tutti ▁gli ▁ ▁ ▁ ▁c ▁era ▁un ▁gran ▁da ▁fare ▁ ▁per ▁ ▁ ▁attend ▁ ▁dar ▁gli ▁ ▁che ▁par ▁p ▁att ▁ ▁pre ▁il ▁ ▁segu ▁ ▁ ▁le ▁ ▁pret ▁ ▁ ▁ar ▁ ▁ ▁v ▁di ▁nuov ▁tu ▁ ▁ad ▁ ▁la ▁ ▁ ▁mani ▁solit ▁ ▁adop ▁▌ ▁S ▁acc ▁la ▁soldat ▁alla ▁casa ▁del ▁vi ▁ ▁gli ▁ ▁ ▁strada ▁fur ▁ ▁di ▁trav ▁ ▁tri ▁di ▁carri ▁▌ ▁S ▁ordin ▁ ▁tutti ▁ ▁for ▁che ▁face ▁pane ▁ ▁inter ▁ ▁si ▁ ▁staff ▁ ▁pa ▁circo ▁ ▁con ▁ ▁di ▁mandar ▁gran ▁alla ▁c ▁ ▁ ▁ ▁for ▁fur ▁ ▁ ▁ ▁che ▁vi ▁si ▁porta ▁di ▁buon ▁ ▁ ▁ ▁in ▁ ▁distribu ▁ ▁ ▁ ▁ ▁fren ▁gl ▁ ▁ ▁con ▁ ▁autorit ▁ ▁pre ▁ ▁ ▁con ▁le ▁buon ▁ ▁▌ ▁Ma ▁per ▁dar ▁ ▁come ▁si ▁dice ▁ ▁un ▁col ▁al ▁ce ▁ ▁uno ▁alla ▁botte ▁ ▁ ▁render ▁p ▁ ▁ ▁consigli ▁con ▁un ▁po ▁di ▁spa ▁ ▁si ▁pens ▁ ▁ ▁trova ▁la ▁manier ▁di ▁ ▁le ▁mani ▁add ▁ ▁qual\n",
      "▁che ▁ ▁▌ ▁E ▁se ▁sa ▁poi ▁vero ▁che ▁sia ▁div ▁gal ▁ ▁cos ▁ ▁un ▁ ▁▌ ▁Dell ▁ ▁se ▁ne ▁fan ▁tante ▁ ▁ ▁mondo ▁ ▁ ▁per ▁tante ▁ca ▁▌ ▁Che ▁so ▁ ▁ ▁alle ▁ ▁▌ ▁E ▁in ▁mi ▁to ▁ ▁andar ▁con ▁lui ▁ ▁in ▁quel ▁castell ▁▌ ▁Oh ▁che ▁ ▁ ▁che ▁ ▁ ▁che ▁ ▁▌ ▁Chi ▁me ▁ ▁av ▁ ▁sta ▁▌ ▁Ah ▁ ▁se ▁poss ▁ ▁ ▁salv ▁ ▁m ▁ha ▁da ▁sentir ▁la ▁ ▁Per ▁ ▁d ▁aver ▁ ▁qui ▁per ▁ ▁ ▁ ▁non ▁c ▁era ▁necessit ▁ ▁fu ▁ ▁mia ▁pie ▁ ▁ ▁che ▁tutti ▁ ▁par ▁d ▁in ▁accor ▁ ▁ ▁p ▁da ▁ ▁ ▁ ▁che ▁non ▁bis ▁stare ▁indie ▁ ▁ ▁che ▁ ▁ ▁ ▁che ▁quest ▁ ▁ ▁ ▁im ▁in ▁un ▁ ▁di ▁ ▁sorte ▁▌ ▁Oh ▁pover ▁me ▁▌ ▁Ep ▁qual ▁bis ▁dir ▁ ▁cost ▁▌ ▁–▌ ▁E ▁pensa ▁ ▁ri ▁ ▁av ▁trova ▁che ▁gli ▁av ▁pot ▁dire ▁ ▁non ▁mi ▁sare ▁mai ▁aspett ▁ ▁ ▁d ▁incontr ▁in ▁una ▁cos ▁ ▁ ▁ ▁ ▁ ▁per ▁apri ▁b ▁ ▁ ▁ ▁ ▁ ▁di ▁camera ▁ ▁col ▁curat ▁del ▁pa ▁ ▁il ▁qual ▁ann ▁che ▁la ▁donna ▁era ▁pront ▁ ▁let ▁ ▁ ▁poi ▁si ▁volt ▁ ▁don ▁Abb ▁ ▁per ▁ricev ▁da ▁lui ▁ ▁ ▁commission ▁del ▁ ▁▌ ▁Don ▁Abb ▁se ▁ne ▁ ▁come ▁pot ▁ ▁in ▁quell ▁con ▁di ▁ ▁ ▁ ▁ ▁poi ▁all ▁ ▁ ▁gli ▁disse ▁ ▁« ▁mi ▁dia ▁almen ▁una ▁ ▁quiet ▁ ▁per ▁ ▁ ▁la ▁ver ▁ ▁sono ▁un ▁pover ▁caval ▁» ▁▌ ▁« ▁Si ▁figur ▁ ▁» ▁rispo ▁ ▁ ▁ ▁con ▁un ▁m ▁so ▁ ▁« ▁ ▁la ▁mula ▁del\n",
      "oggio ▁▌ ▁È ▁ ▁come ▁og ▁vede ▁ ▁la ▁p ▁on ▁▌ ▁Ma ▁ ▁ris ▁bis ▁pagar ▁ ▁ ▁un ▁prezzo ▁ ▁ ▁da ▁quell ▁del ▁pane ▁▌ ▁Il ▁caric ▁di ▁suppl ▁all ▁ ▁differenz ▁era ▁ ▁ ▁alla ▁c ▁ ▁ma ▁il ▁ ▁de ▁de ▁ ▁che ▁ ▁av ▁as ▁per ▁essa ▁ ▁de ▁ ▁lo ▁ ▁ ▁23 ▁di ▁ ▁ ▁di ▁rappresent ▁al ▁govern ▁ ▁ ▁di ▁sosten ▁p ▁ ▁lung ▁▌ ▁E ▁il ▁govern ▁ ▁con ▁ ▁del ▁7 ▁di ▁di ▁ ▁fis ▁il ▁prezzo ▁del ▁ris ▁sud ▁ ▁ ▁do ▁il ▁m ▁ ▁ ▁chi ▁ne ▁ ▁di ▁p ▁ ▁come ▁ ▁chi ▁ri ▁di ▁vende ▁ ▁intim ▁la ▁per ▁ ▁der ▁ ▁una ▁mult ▁d ▁ ▁valor ▁ ▁et ▁ ▁pena ▁pe ▁et ▁ ▁ ▁sino ▁alla ▁galer ▁ ▁all ▁arbitr ▁di▌ ▁S ▁ ▁second ▁la ▁qualit ▁de ▁casi ▁et ▁ ▁persone ▁▌ ▁Al ▁ris ▁brill ▁era ▁gi ▁ ▁fi ▁il ▁prezzo ▁prima ▁ ▁som ▁ ▁come ▁probabil ▁la ▁ ▁ ▁ ▁per ▁ ▁quell ▁denomina ▁cele ▁negli ▁an ▁moderni ▁ ▁il ▁ ▁del ▁gran ▁ ▁dell ▁ ▁gran ▁p ▁ ▁sa ▁ ▁fi ▁con ▁ ▁ ▁ ▁che ▁non ▁c ▁ ▁ ▁di ▁ ▁▌ ▁Man ▁cos ▁il ▁pane ▁ ▁la ▁farin ▁ ▁buon ▁ ▁in ▁Milano ▁ ▁ne ▁veni ▁di ▁consegu ▁che ▁dalla ▁campagn ▁accor ▁gente ▁ ▁process ▁ ▁comprar ▁▌ ▁Don ▁Gonzal ▁ ▁per ▁ripar ▁ ▁ ▁ ▁come ▁dice ▁lui ▁ ▁in ▁ ▁pro ▁ ▁con ▁un ▁ ▁ ▁del ▁15 ▁di ▁di ▁ ▁di ▁ ▁fu ▁ ▁c ▁pane ▁ ▁per ▁p ▁del ▁valor ▁di ▁venti ▁ ▁ ▁pena ▁la ▁per ▁del ▁pane ▁med ▁ ▁ ▁venti ▁scu ▁ ▁et ▁in ▁caso ▁di ▁in ▁ ▁di ▁due ▁ ▁di ▁\n",
      "altra ▁ ▁alla ▁ ▁ ▁ ▁ ▁che ▁le ▁av ▁date ▁ ▁ ▁ ▁▌ ▁Ma ▁ ▁gi ▁nel ▁far ▁ ▁ ▁ ▁av ▁ri ▁ ▁ ▁di ▁sé ▁ ▁il ▁filo ▁dell ▁ ▁comin ▁al ▁ ▁del ▁pover ▁R ▁ ▁ ▁la ▁pro ▁ ▁cam ▁in ▁ ▁▌ ▁– ▁Test ▁d ▁un ▁montan ▁▌ ▁– ▁Ch ▁ ▁per ▁ ▁R ▁av ▁ ▁ ▁nas ▁ ▁ ▁suo ▁ ▁ ▁qualit ▁si ▁manifesta ▁da ▁sé ▁ ▁ ▁ ▁ ▁ ▁pronun ▁ ▁nell ▁aspett ▁ ▁negli ▁att ▁▌ ▁– ▁Una ▁ ▁come ▁ ▁ ▁ ▁ ▁di ▁politica ▁ ▁ ▁ ▁d ▁aver ▁ ▁ ▁ ▁ ▁ ▁netto ▁ ▁ ▁dove ▁ ▁tu ▁ ▁fine ▁ ▁ ▁gua ▁ ▁ ▁nel ▁pani ▁▌ ▁Man ▁ ▁in ▁Milano ▁ ▁che ▁tu ▁dov ▁propri ▁capita ▁alla ▁mia ▁▌ ▁Foss ▁almen ▁capita ▁solo ▁ ▁che ▁ ▁ ▁un ▁ ▁ ▁per ▁ ▁sera ▁ ▁ ▁do ▁ ▁ ▁ ▁in ▁la ▁ ▁▌ ▁Ma ▁no ▁ ▁ ▁in ▁ ▁ci ▁vien ▁ ▁ ▁in ▁ ▁d ▁un ▁bar ▁ ▁per ▁far ▁me ▁ ▁–▌ ▁A ▁ ▁ ▁ ▁ ▁oste ▁incontr ▁ ▁pass ▁ ▁ ▁ ▁c ▁ ▁ ▁briga ▁di ▁gente ▁ ▁che ▁gir ▁susu ▁▌ ▁A ▁ ▁punto ▁ ▁sua ▁muta ▁allo ▁ ▁vide ▁ ▁una ▁pat ▁di ▁soldat ▁ ▁ ▁tir ▁da ▁parte ▁ ▁per ▁ ▁passar ▁ ▁li ▁guard ▁con ▁la ▁co ▁dell ▁ ▁ ▁ ▁continu ▁tra ▁sé ▁ ▁– ▁ ▁ ▁gast ▁▌ ▁E ▁tu ▁ ▁p ▁d ▁ ▁ ▁per ▁aver ▁ ▁un ▁po ▁di ▁gente ▁in ▁giro ▁ ▁far ▁bac ▁ ▁ti ▁sei ▁ ▁in ▁testa ▁che ▁il ▁mondo ▁ ▁ ▁mu ▁▌ ▁E ▁su ▁\n"
     ]
    },
    {
     "data": {
      "text/html": [],
      "text/plain": [
       "<IPython.core.display.HTML object>"
      ]
     },
     "metadata": {},
     "output_type": "display_data"
    },
    {
     "name": "stdout",
     "output_type": "stream",
     "text": [
      "\n",
      "### Window 18\n",
      "P: » e qui una buona bestemmia \",\" « o chi lo farà non se ne pentirà \",\" perché non ne avrà tempo \",\" e ... » un' altra bestemmia . | « Zitto \",\" zitto \",\" » riprese il primo oratore \",\" « il signor curato è un uomo che sa il viver del mondo ; e noi siam galantuomini \",\" che non vogliam fargli del male \",\" purché abbia giudizio . | Signor curato \",\" l' illustrissimo signor don Rodrigo nostro padrone la riverisce caramente . » | Questo nome fu \",\" nella mente di don Abbondio \",\" come \",\" nel forte d' un temporale notturno \",\" un lampo che illumina momentaneamente e in confuso gli oggetti \",\" e accresce il terrore . | Fece \",\" come per istinto \",\" un grand' inchino \",\" e disse : « se mi sapessero suggerire ... » « | Oh ! suggerire a lei che sa di latino ! » interruppe ancora il bravo \",\" con un riso tra lo sguaiato e il feroce . | « A lei tocca . | E sopra tutto \",\" non si lasci uscir parola su questo avviso \",\" che le abbiam dato per suo bene ; altrimenti ... ehm ... sarebbe lo stesso che fare quel tal matrimonio . | Via \",\" che vuol che si dica in suo nome all' illustrissimo signor don Rodrigo ? » « | Il mio rispetto ... » « | Si spieghi meglio ! » « | ... Dis | posto ... disposto sempre all' ubbidienza . » E | \",\" proferendo queste parole \",\" non sapeva nemmen lui se faceva una promessa \",\" o un complimento . | I bravi le presero \",\" o mostraron di prenderle nel significato più serio . | « Benissimo \",\" e buona notte \",\" messere \",\" » disse l' un d' essi \",\" in atto di partir col compagno . | Don Abbondio \",\" che \",\" pochi momenti prima \",\" avrebbe\n",
      "G: » e qui una buona bestemmia \",\" « o chi lo farà non se ne pentirà \",\" perché non ne avrà tempo \",\" e ... » un' altra bestemmia . | « Zitto \",\" zitto \",\" » riprese il primo oratore \",\" « il signor curato è un uomo che sa il viver del mondo ; e noi siam galantuomini \",\" che non vogliam fargli del male \",\" purché abbia giudizio . | Signor curato \",\" l' illustrissimo signor don Rodrigo nostro padrone la riverisce caramente . » | Questo nome fu \",\" nella mente di don Abbondio \",\" come \",\" nel forte d' un temporale notturno \",\" un lampo che illumina momentaneamente e in confuso gli oggetti \",\" e accresce il terrore . | Fece \",\" come per istinto \",\" un grand' inchino \",\" e disse : « se mi sapessero suggerire ... » « | Oh ! suggerire a lei che sa di latino ! » interruppe ancora il bravo \",\" con un riso tra lo sguaiato e il feroce . | « A lei tocca . | E sopra tutto \",\" non si lasci uscir parola su questo avviso \",\" che le abbiam dato per suo bene ; altrimenti ... ehm ... sarebbe lo stesso che fare quel tal matrimonio . | Via \",\" che vuol che si dica in suo nome all' illustrissimo signor don Rodrigo ? » « | Il mio rispetto ... » « | Si spieghi meglio ! » « | ... Disposto ... disposto sempre all' ubbidienza . » E | \",\" proferendo queste parole \",\" non sapeva nemmen lui se faceva una promessa \",\" o un complimento . | I bravi le presero \",\" o mostraron di prenderle nel significato più serio . | « Benissimo \",\" e buona notte \",\" messere \",\" » disse l' un d' essi \",\" in atto di partir col compagno . | Don Abbondio \",\" che \",\" pochi momenti prima \",\" avrebbe\n",
      "\n",
      "### Window 23\n",
      "P: \",\" tavernai ed altri \",\" come sopra \",\" di trecento scudi : sì \",\" son lì che covano trecento scudi ; e per ispenderli così bene ; da essere applicati \",\" per i due terzi alla regia Camera \",\" e l' altro all' accusatore o delatore : quel bel cecino ! | Ed in caso di inabilità \",\" cinque anni di galera \",\" e maggior pena pecuniaria o corporale \",\" all' arbitrio di sua eccellenza . | Obbligatissimo alle sue grazie . | – A | queste parole \",\" l' oste toccava la soglia del palazzo di giustizia . | Lì \",\" come a tutti gli altri ufizi \",\" c' era un gran da fare : per tutto s' attendeva a dar gli ordini che parevan più atti a preoccupare il giorno seguente \",\" a levare i pretesti e l' ardire agli animi vogliosi di nuovi tumulti \",\" ad assicurare la forza nelle mani solite a adoprarla . | S' accrebbe la soldatesca alla casa del vicario ; gli sbocchi della strada furono sbarrati di travi \",\" trincerati di carri . | S' ordinò a tutti i fornai che facessero pane senza intermissione ; si spedirono staffette a' paesi circonvicini \",\" con ordini di mandar grano alla città ; a ogni forno furono deputati nobili \",\" che vi si portassero di buon mattino \",\" a invigilare sulla distribuzione e a tenere a freno gl' inquieti \",\" con l' autorità della presenza \",\" e con le buone parole . | Ma per dar \",\" come si dice \",\" un colpo al cerchio e uno alla botte \",\" e render più efficaci i consigli con un po' di spavento \",\" si pensò anche a trovar la maniera di metter le mani addosso a qualche\n",
      "G: \",\" tavernai ed altri \",\" come sopra \",\" di trecento scudi : sì \",\" son lì che covano trecento scudi ; e per ispenderli così bene ; da essere applicati \",\" per i due terzi alla regia Camera \",\" e l' altro all' accusatore o delatore : quel bel cecino ! | Ed in caso di inabilità \",\" cinque anni di galera \",\" e maggior pena pecuniaria o corporale \",\" all' arbitrio di sua eccellenza . | Obbligatissimo alle sue grazie . – A | queste parole \",\" l' oste toccava la soglia del palazzo di giustizia . | Lì \",\" come a tutti gli altri ufizi \",\" c' era un gran da fare : per tutto s' attendeva a dar gli ordini che parevan più atti a preoccupare il giorno seguente \",\" a levare i pretesti e l' ardire agli animi vogliosi di nuovi tumulti \",\" ad assicurare la forza nelle mani solite a adoprarla . | S' accrebbe la soldatesca alla casa del vicario ; gli sbocchi della strada furono sbarrati di travi \",\" trincerati di carri . | S' ordinò a tutti i fornai che facessero pane senza intermissione ; si spedirono staffette a' paesi circonvicini \",\" con ordini di mandar grano alla città ; a ogni forno furono deputati nobili \",\" che vi si portassero di buon mattino \",\" a invigilare sulla distribuzione e a tenere a freno gl' inquieti \",\" con l' autorità della presenza \",\" e con le buone parole . | Ma per dar \",\" come si dice \",\" un colpo al cerchio e uno alla botte \",\" e render più efficaci i consigli con un po' di spavento \",\" si pensò anche a trovar la maniera di metter le mani addosso a qualche\n",
      "\n",
      "### Window 27\n",
      "P: che questo . | E se sarà poi vero che sia diventato galantuomo : così a un tratto ! | Delle dimostrazioni se ne fanno tante a questo mondo \",\" e per tante cagioni ! | Che so io \",\" alle volte ? | E intanto mi tocca a andar con lui ! in quel castello ! | Oh che storia ! che storia ! che storia ! | Chi me l' avesse detto stamattina ! | Ah \",\" se posso uscirne a salvamento \",\" m' ha da sentire la signora Perpetua \",\" d' avermi cacciato qui per forza \",\" quando non c' era necessità \",\" fuor della mia pieve : e che tutti i parrochi d' intorno accorrevano \",\" anche più da lontano ; e che non bisognava stare indietro ; e che questo \",\" e che quest' altro ; e imbarcarmi in un affare di questa sorte ! | Oh povero me ! | Eppure qualcosa bisognerà dirgli a costui . | – E | pensa e ripensa \",\" aveva trovato che gli avrebbe potuto dire : non mi sarei mai aspettato questa fortuna d' incontrarmi in una così rispettabile compagnia ; e stava per aprir bocca \",\" quando entrò l' aiutante di camera \",\" col curato del paese \",\" il quale annunziò che la donna era pronta nella lettiga ; e poi si voltò a don Abbondio \",\" per ricevere da lui l' altra commissione del cardinale . | Don Abbondio se ne sbrigò come potè \",\" in quella confusione di mente ; e accostatosi poi all' aiutante \",\" gli disse : « mi dia almeno una bestia quieta ; perché \",\" dico la verità \",\" sono un povero cavalcatore » . | « Si figuri \",\" » rispose l' aiutante \",\" con un mezzo sogghigno : « è la mula del\n",
      "G: che questo . | E se sarà poi vero che sia diventato galantuomo : così a un tratto ! | Delle dimostrazioni se ne fanno tante a questo mondo \",\" e per tante cagioni ! | Che so io \",\" alle volte ? | E intanto mi tocca a andar con lui ! in quel castello ! | Oh che storia ! che storia ! che storia ! | Chi me l' avesse detto stamattina ! | Ah \",\" se posso uscirne a salvamento \",\" m' ha da sentire la signora Perpetua \",\" d' avermi cacciato qui per forza \",\" quando non c' era necessità \",\" fuor della mia pieve : e che tutti i parrochi d' intorno accorrevano \",\" anche più da lontano ; e che non bisognava stare indietro ; e che questo \",\" e che quest' altro ; e imbarcarmi in un affare di questa sorte ! | Oh povero me ! | Eppure qualcosa bisognerà dirgli a costui . – E | pensa e ripensa \",\" aveva trovato che gli avrebbe potuto dire : non mi sarei mai aspettato questa fortuna d' incontrarmi in una così rispettabile compagnia ; e stava per aprir bocca \",\" quando entrò l' aiutante di camera \",\" col curato del paese \",\" il quale annunziò che la donna era pronta nella lettiga ; e poi si voltò a don Abbondio \",\" per ricevere da lui l' altra commissione del cardinale . | Don Abbondio se ne sbrigò come potè \",\" in quella confusione di mente ; e accostatosi poi all' aiutante \",\" gli disse : « mi dia almeno una bestia quieta ; perché \",\" dico la verità \",\" sono un povero cavalcatore » . | « Si figuri \",\" » rispose l' aiutante \",\" con un mezzo sogghigno : « è la mula del\n",
      "\n",
      "### Window 32\n",
      "P: oggio . | È \",\" come ognun vede \",\" la più onesta . | Ma questo riso bisognava pagarlo \",\" e un prezzo troppo sproporzionato da quello del pane . | Il carico di supplire all' enorme differenza era stato imposto alla città ; ma il Consiglio de' decurioni \",\" che l' aveva assunto per essa \",\" deliberò \",\" lo stesso giorno 23 di novembre \",\" di rappresentare al governatore l' impossibilità di sostenerlo più a lungo . | E il governatore \",\" con grida del 7 di dicembre \",\" fissò il prezzo del riso suddetto a lire dodici il moggio : a chi ne chiedesse di più \",\" come a chi ricusasse di vendere \",\" intimò la perdita della derrata e una multa d' altrettanto valore \",\" et maggior pena pecuniaria et ancora corporale sino alla galera \",\" all' arbitrio di S | .E. \",\" secondo la qualità de' casi et delle persone . | Al riso brillato era già stato fissato il prezzo prima della sommossa ; come probabilmente la tariffa o \",\" per usare quella denominazione celeberrima negli annali moderni \",\" il maximum del grano e dell' altre granaglie più ordinarie sarà stato fissato con altre gride \",\" che non c' è avvenuto di vedere . | Mantenuto così il pane e la farina a buon mercato in Milano \",\" ne veniva di conseguenza che dalla campagna accorresse gente a processione a comprarne . | Don Gonzalo \",\" per riparare a questo \",\" come dice lui \",\" inconveniente \",\" proibì \",\" con un' altra grida del 15 di dicembre \",\" di portar fuori della città pane \",\" per più del valore di venti soldi ; pena la perdita del pane medesimo \",\" e venticinque scudi \",\" et in caso di inhabilità \",\" di due tratti di corda\n",
      "G: oggio . | È \",\" come ognun vede \",\" la più onesta . | Ma questo riso bisognava pagarlo \",\" e un prezzo troppo sproporzionato da quello del pane . | Il carico di supplire all' enorme differenza era stato imposto alla città ; ma il Consiglio de' decurioni \",\" che l' aveva assunto per essa \",\" deliberò \",\" lo stesso giorno 23 di novembre \",\" di rappresentare al governatore l' impossibilità di sostenerlo più a lungo . | E il governatore \",\" con grida del 7 di dicembre \",\" fissò il prezzo del riso suddetto a lire dodici il moggio : a chi ne chiedesse di più \",\" come a chi ricusasse di vendere \",\" intimò la perdita della derrata e una multa d' altrettanto valore \",\" et maggior pena pecuniaria et ancora corporale sino alla galera \",\" all' arbitrio di S.E. \",\" secondo la qualità de' casi et delle persone . | Al riso brillato era già stato fissato il prezzo prima della sommossa ; come probabilmente la tariffa o \",\" per usare quella denominazione celeberrima negli annali moderni \",\" il maximum del grano e dell' altre granaglie più ordinarie sarà stato fissato con altre gride \",\" che non c' è avvenuto di vedere . | Mantenuto così il pane e la farina a buon mercato in Milano \",\" ne veniva di conseguenza che dalla campagna accorresse gente a processione a comprarne . | Don Gonzalo \",\" per riparare a questo \",\" come dice lui \",\" inconveniente \",\" proibì \",\" con un' altra grida del 15 di dicembre \",\" di portar fuori della città pane \",\" per più del valore di venti soldi ; pena la perdita del pane medesimo \",\" e venticinque scudi \",\" et in caso di inhabilità \",\" di due tratti di corda\n",
      "\n",
      "### Window 39\n",
      "P: altra occhiata alla moglie \",\" l' istruzioni che le aveva date ; e uscì . | Ma \",\" già nel far quelle operazioni \",\" aveva ripreso \",\" dentro di sé \",\" il filo dell' apostrofe cominciata al letto del povero Renzo ; e la proseguiva \",\" camminando in istrada . | – Testardo d' un montanaro ! | – Ché \",\" per quanto Renzo avesse voluto tener nascosto l' esser suo \",\" questa qualità si manifestava da sé \",\" nelle parole \",\" nella pronunzia \",\" nell' aspetto e negli atti . | – Una giornata come questa \",\" a forza di politica \",\" a forza d' aver giudizio \",\" io n' uscivo netto ; e dovevi venir tu sulla fine \",\" a guastarmi l' uova nel paniere . | Manca osterie in Milano \",\" che tu dovessi proprio capitare alla mia ? | Fossi almeno capitato solo ; che avrei chiuso un occhio \",\" per questa sera ; e domattina t' avrei fatto intender la ragione . | Ma no signore ; in compagnia ci vieni ; e in compagnia d' un bargello \",\" per far meglio ! – A | ogni passo \",\" l' oste incontrava o passeggieri scompagnati \",\" o coppie \",\" o brigate di gente \",\" che giravano susurrando . | A questo punto della sua muta allocuzione \",\" vide venire una pattuglia di soldati ; e tirandosi da parte \",\" per lasciarli passare \",\" li guardò con la coda dell' occhio \",\" e continuò tra sé : – eccoli i gastigamatti . | E tu \",\" pezzo d' asino \",\" per aver visto un po' di gente in giro a far baccano \",\" ti sei cacciato in testa che il mondo abbia a mutarsi . | E su questo\n",
      "G: altra occhiata alla moglie \",\" l' istruzioni che le aveva date ; e uscì . | Ma \",\" già nel far quelle operazioni \",\" aveva ripreso \",\" dentro di sé \",\" il filo dell' apostrofe cominciata al letto del povero Renzo ; e la proseguiva \",\" camminando in istrada . | – Testardo d' un montanaro ! – Ch | é \",\" per quanto Renzo avesse voluto tener nascosto l' esser suo \",\" questa qualità si manifestava da sé \",\" nelle parole \",\" nella pronunzia \",\" nell' aspetto e negli atti . | – Una giornata come questa \",\" a forza di politica \",\" a forza d' aver giudizio \",\" io n' uscivo netto ; e dovevi venir tu sulla fine \",\" a guastarmi l' uova nel paniere . | Manca osterie in Milano \",\" che tu dovessi proprio capitare alla mia ? | Fossi almeno capitato solo ; che avrei chiuso un occhio \",\" per questa sera ; e domattina t' avrei fatto intender la ragione . | Ma no signore ; in compagnia ci vieni ; e in compagnia d' un bargello \",\" per far meglio ! – A | ogni passo \",\" l' oste incontrava o passeggieri scompagnati \",\" o coppie \",\" o brigate di gente \",\" che giravano susurrando . | A questo punto della sua muta allocuzione \",\" vide venire una pattuglia di soldati ; e tirandosi da parte \",\" per lasciarli passare \",\" li guardò con la coda dell' occhio \",\" e continuò tra sé : – eccoli i gastigamatti . | E tu \",\" pezzo d' asino \",\" per aver visto un po' di gente in giro a far baccano \",\" ti sei cacciato in testa che il mondo abbia a mutarsi . | E su questo\n"
     ]
    }
   ],
   "source": [
    "def error_examples(trainer, ds, max_show=10):\n",
    "    out = trainer.predict(ds)\n",
    "    preds = out.predictions.argmax(-1)\n",
    "    labels = out.label_ids\n",
    "    mask = labels != -100\n",
    "    ids = ds[\"input_ids\"]\n",
    "    tok = trainer.tokenizer\n",
    "    shown = 0\n",
    "    results = []\n",
    "    for i in range(len(ds)):\n",
    "        m = mask[i]\n",
    "        if not m.any(): continue\n",
    "        y_true = labels[i][m]\n",
    "        y_pred = preds[i][m]\n",
    "        if (y_true != y_pred).any():\n",
    "            results.append(i)\n",
    "            words = tok.convert_ids_to_tokens(ds[i][\"input_ids\"])\n",
    "            visible_words = [w for w,mm in zip(words, m) if mm]\n",
    "            # mark predicted boundaries with \"▌\"\n",
    "            pieces = []\n",
    "            for w, b, t in zip(visible_words, y_pred, y_true):\n",
    "                mark = \"▌\" if b==1 else \"\"\n",
    "                pieces.append(w+mark)\n",
    "            print(\" \".join(pieces))\n",
    "            shown += 1\n",
    "            if shown >= max_show: break\n",
    "    return results\n",
    "\n",
    "results = error_examples(best_trainer, val_ds, max_show=5)\n",
    "evaluation.preview_pred_vs_gold(best_trainer, val_ds, results)\n",
    "\n"
   ]
  },
  {
   "cell_type": "code",
   "execution_count": 15,
   "id": "13570eca",
   "metadata": {},
   "outputs": [
    {
     "name": "stderr",
     "output_type": "stream",
     "text": [
      "/home/user/mnlp/notebooks/../src/evaluation.py:23: FutureWarning: `tokenizer` is deprecated and will be removed in version 5.0.0 for `Trainer.__init__`. Use `processing_class` instead.\n",
      "  trainer = Trainer(\n"
     ]
    },
    {
     "data": {
      "text/html": [],
      "text/plain": [
       "<IPython.core.display.HTML object>"
      ]
     },
     "metadata": {},
     "output_type": "display_data"
    },
    {
     "name": "stdout",
     "output_type": "stream",
     "text": [
      "deberta OOD Results: {'precision': 0.1875, 'recall': 0.008379888268156424, 'f1': 0.016042780748663103, 'accuracy': 0.9654622243078367}\n"
     ]
    },
    {
     "name": "stderr",
     "output_type": "stream",
     "text": [
      "/home/user/mnlp/notebooks/../src/evaluation.py:23: FutureWarning: `tokenizer` is deprecated and will be removed in version 5.0.0 for `Trainer.__init__`. Use `processing_class` instead.\n",
      "  trainer = Trainer(\n",
      "W0808 20:39:03.129000 3279 torch/_inductor/utils.py:1436] [1/0_1] Not enough SMs to use max_autotune_gemm mode\n"
     ]
    },
    {
     "data": {
      "text/html": [],
      "text/plain": [
       "<IPython.core.display.HTML object>"
      ]
     },
     "metadata": {},
     "output_type": "display_data"
    },
    {
     "name": "stdout",
     "output_type": "stream",
     "text": [
      "modernbert OOD Results: {'precision': 0.9793510324483776, 'recall': 0.996996996996997, 'f1': 0.9880952380952381, 'accuracy': 0.9991709844559585}\n"
     ]
    },
    {
     "name": "stderr",
     "output_type": "stream",
     "text": [
      "/home/user/mnlp/notebooks/../src/evaluation.py:23: FutureWarning: `tokenizer` is deprecated and will be removed in version 5.0.0 for `Trainer.__init__`. Use `processing_class` instead.\n",
      "  trainer = Trainer(\n"
     ]
    },
    {
     "data": {
      "text/html": [],
      "text/plain": [
       "<IPython.core.display.HTML object>"
      ]
     },
     "metadata": {},
     "output_type": "display_data"
    },
    {
     "name": "stdout",
     "output_type": "stream",
     "text": [
      "bert OOD Results: {'precision': 0.9920844327176781, 'recall': 0.9920844327176781, 'f1': 0.9920844327176781, 'accuracy': 0.9994380443944928}\n"
     ]
    }
   ],
   "source": [
    "# OOD\n",
    "ood_results = {}\n",
    "importlib.reload(dataset)\n",
    "\n",
    "# -- OOD evaluation loop:\n",
    "ood_results = {}\n",
    "for model_key in [\"deberta\", \"modernbert\", \"bert\"]:\n",
    "    model_dir = paths.chekpoints / model_key\n",
    "    trainer = evaluation.load_trainer_for_eval(model_dir, HF_DATA / model_key / \"ood\")\n",
    "    pred = trainer.predict(trainer.eval_dataset)  # use their own OOD eval set\n",
    "    logits = pred.predictions\n",
    "    labels = pred.label_ids\n",
    "\n",
    "    metrics = evaluation.compute_prf(logits, labels)\n",
    "    ood_results[model_key] = metrics\n",
    "    print(f\"{model_key} OOD Results:\", metrics)"
   ]
  },
  {
   "cell_type": "code",
   "execution_count": 17,
   "id": "473f6a62",
   "metadata": {},
   "outputs": [
    {
     "data": {
      "text/html": [
       "<div>\n",
       "<style scoped>\n",
       "    .dataframe tbody tr th:only-of-type {\n",
       "        vertical-align: middle;\n",
       "    }\n",
       "\n",
       "    .dataframe tbody tr th {\n",
       "        vertical-align: top;\n",
       "    }\n",
       "\n",
       "    .dataframe thead th {\n",
       "        text-align: right;\n",
       "    }\n",
       "</style>\n",
       "<table border=\"1\" class=\"dataframe\">\n",
       "  <thead>\n",
       "    <tr style=\"text-align: right;\">\n",
       "      <th></th>\n",
       "      <th>precision</th>\n",
       "      <th>recall</th>\n",
       "      <th>f1</th>\n",
       "      <th>accuracy</th>\n",
       "    </tr>\n",
       "  </thead>\n",
       "  <tbody>\n",
       "    <tr>\n",
       "      <th>bert</th>\n",
       "      <td>0.992084</td>\n",
       "      <td>0.992084</td>\n",
       "      <td>0.992084</td>\n",
       "      <td>0.999438</td>\n",
       "    </tr>\n",
       "    <tr>\n",
       "      <th>modernbert</th>\n",
       "      <td>0.979351</td>\n",
       "      <td>0.996997</td>\n",
       "      <td>0.988095</td>\n",
       "      <td>0.999171</td>\n",
       "    </tr>\n",
       "    <tr>\n",
       "      <th>deberta</th>\n",
       "      <td>0.187500</td>\n",
       "      <td>0.008380</td>\n",
       "      <td>0.016043</td>\n",
       "      <td>0.965462</td>\n",
       "    </tr>\n",
       "  </tbody>\n",
       "</table>\n",
       "</div>"
      ],
      "text/plain": [
       "            precision    recall        f1  accuracy\n",
       "bert         0.992084  0.992084  0.992084  0.999438\n",
       "modernbert   0.979351  0.996997  0.988095  0.999171\n",
       "deberta      0.187500  0.008380  0.016043  0.965462"
      ]
     },
     "execution_count": 17,
     "metadata": {},
     "output_type": "execute_result"
    }
   ],
   "source": [
    "pd.DataFrame(ood_results).T.sort_values(\"f1\", ascending=False)"
   ]
  },
  {
   "cell_type": "code",
   "execution_count": 25,
   "id": "954a72c4",
   "metadata": {},
   "outputs": [
    {
     "name": "stderr",
     "output_type": "stream",
     "text": [
      "/home/user/mnlp/notebooks/../src/evaluation.py:23: FutureWarning: `tokenizer` is deprecated and will be removed in version 5.0.0 for `Trainer.__init__`. Use `processing_class` instead.\n",
      "  trainer = Trainer(\n"
     ]
    },
    {
     "data": {
      "text/html": [],
      "text/plain": [
       "<IPython.core.display.HTML object>"
      ]
     },
     "metadata": {},
     "output_type": "display_data"
    },
    {
     "name": "stderr",
     "output_type": "stream",
     "text": [
      "Trainer.tokenizer is now deprecated. You should use Trainer.processing_class instead.\n",
      "Trainer.tokenizer is now deprecated. You should use Trainer.processing_class instead.\n"
     ]
    },
    {
     "name": "stdout",
     "output_type": "stream",
     "text": [
      "perder la testa ; ma \" per ciò che riguarda quel seme tanto per de bra \" certo è che esso continua a ger \" il 22 settembre dell anno 1612 .▌ In quel giorno l Ill ed E Signore \" il Sign Don Giovanni de Men \" Marche de la Hy \" Gent etc Govern etc \" pen seriam ad esti .▌ A quest effetto \" sp a Pan e Marco Tu Mala \" stampa regi camera \" la soli grid \" corre ed ac \" perché la stampa ad este de bra .▌ Ma questi visse ancora per riceve \" il 24 de dell anno 1618 \" gli stessi e più forti colpi dall Ill ed E Signore \" il Sign don Gomez Sua de Figueroa \" Duca di Feria \" etc Govern etc Però non essendo essi morti ne di quelli \" l Ill ed E Signore \" il Sign Gonzalo Fernandez di Cor \" sotto il cui governo ac la passe di don Ab \" s era trovato costretto a rico e ri la soli grid contro i bra \" il giorno 5 ottobre del 1627 \" cioè un anno \" un mese e due giorni prima di quel me av .▌ Né fu questa l ultima pubblicazione ; ma noi delle posterior non c dove far men \" come di cosa che esce dal periodo della nostra storia .▌ Ne ac soltanto una del 13 febbraio dell anno 1632 \" nella quale l Ill ed E Signore \" el Duque de Feria \" per la seconda volta governatore \" ci av che le maggiori s pro da quelli che chiama bra .▌ Questo bas ad ass che \" nel tempo di cui noi tratti \" c era de bra tuttavia .▌ Che i due des di sopra stesse i ad asp qualche\n",
      "##rsi di gran cap \" d alte penn \" di dur pendent \" un move libr di go ina e c \" uno str intra di ra zi .▌ Le antica \" il cort e la strada form di servit \" di pag \" di bra e di cu .▌ Fra Cristo vide quell appare \" ne indo il motivo \" e pro un leggi tur ; ma \" dopo un ista \" disse tra sé : [UNK] sta bene : l ho ucciso in pubblico \" alla presenza di tanti suoi nemici : quello fu s \" questa è ri .▌ [UNK]▌ Così \" con gli occhi bass \" col padre compagno al fianco \" passò la porta di quella casa \" att il cort \" tra una f che lo squadra con una cu poco ce ; sal le scale \" e \" di mezzo all altra f sign \" che fece ala al suo passaggio \" seguito da cento sg \" giunse alla presenza del pad di casa ; il quale \" ci da parent più pro \" stava rit nel mezzo della sala \" con lo sg a terra \" e il ment in aria \" im \" con la mano sinistra \" il po della spada \" e string con la destra il ba della cap sul pet .▌ C è talvolta \" nel volto e nel conte d un uomo \" un espressione così im \" si dire quasi un ef dell ani interno \" che \" in una f di sp \" il gi sopra quell ani sarà un solo .▌ Il volto e il conte di fra Cristo disse chiaro agli asta \" che non s era fatto fra \" né veniva a quell um per tim umano : e questo cominciò a con tutti .▌ Quando vide l off \" af\n",
      "##pur ! se una parola \" una parola tale mi pot far bene \" levar d add un po di questa dia \" la dire ; e ! sent che la dire .▌ A che cosa son ri !▌ Non son più uomo \" non son più uomo !▌ [UNK] Via ! [UNK] disse poi \" rivolta arra nel letto div duro duro \" sotto le cop div pes pes : [UNK] via ! sono sci che mi son passat per la testa altre volte .▌ Pass anche questa .▌ [UNK] E per far passare \" andò cerca col pensiero qualche cosa importante \" qualche di quelle che sole occupa fortemente \" onde app tutto ; ma non ne trovò nessuna .▌ Tu gli app cambia : ciò che altre volte st più fortemente i suoi des \" ora non aveva più nulla di des : la passione \" come un cavallo div tu a un tratto rest per un ombra \" non vol più andare avanti .▌ Pen all im av e non finite \" in ve d anima al com \" in ve d ir degli os ( ch l ira in quel momento gli sarebbe pars soa ) \" sent una triste \" quasi uno sp de pass già fatti .▌ Il tempo gli s af davanti vò d ogni intento \" d ogni occupazione \" d ogni voler \" pieno soltanto di me into ; tutte l ore som a quella che gli passa così lenta \" così pesante sul capo .▌ Si s nella fant tutti i suoi mala \" e non trovava da coma a nessuno di loro una cosa che g import ; an l idea di rive \" di trova tra loro \" era un nuovo peso \" un idea di s e d im .▌ E se volle trovare un occupazione per l indo \" un opera fatti \" dovette pensar che all indo poteva lasciare in libertà quella po\n",
      "non deve anda di mezzo \" per le tu paz .▌ [UNK] Renzo ring la guida \" e tutti quegli altri che aveva prese le sue parti .▌ « Br amici ! » disse : « ora ved proprio che i gala si danno la mano \" e si sos . »▌ Po \" sp la destra per aria sopra la tavola \" e mette di nuovo in atti di pred \" « gran cosa \" » es \" « che tutti quelli che re il mondo \" vo fare entrar per tutto carta \" penn e cal !▌ Sempre la penn per aria !▌ Grande sm che hanno que sign d ado la penn ! »▌ « E \" quel gala di campagna ! vol sap la ragione ? » disse ride uno di que giocatori \" che vince .▌ « Sent un poco \" » ri Renzo .▌ « La ragione è questa \" » disse col : « che que sign son loro che mang l och \" e si trova lì tante penn \" tante penn \" che qualcosa bis che ne faccia . »▌ Tutti si mise a rider \" fu che il compagno che perde .▌ « To \" » disse Renzo : « è un poeta cost .▌ Ce n è anche qui de poet : già ne nasce per tutto .▌ N ho una ven anch io \" e qualche volta ne di delle cu [UNK] ma quando le cose vanno bene . »▌ Per cap questa bag del po Renzo \" bis sapere che \" presso il vol di Milano \" e del conta ancora più \" poeta non significa già \" come per tutti i gala \" un sac ing \" un abitato di Pin \" un all delle Muse ; vu dire un ce biz e un po bal \" che \" ne disco e ne fatti \" abbia più dell ar e del singolare che del ragione .▌ Tanto quel gu del vol è\n",
      "\" le lodi del novi \" la rico \" la mans furono i temi della con .▌ E tal \" che \" per la cinquante volta \" avrebbe racconta come il conte Mu suo padre aveva sap \" in quella famosa con \" far stare a dove il marchese Stan \" ch era quel rod che og sa \" par in ve delle pen e della paz mira d un fra Simone \" morto molt anni prima .▌ Partit la compagnia \" il pad \" an tutto com \" ri tra sé \" con mara \" ciò che aveva inte \" ciò ch egli mede aveva detto ; e bor tra i den : [UNK] dia d un fra ! ( bis bene che noi tras le sue precise parole ) [UNK] dia d un fra ! se rimane lì in gi \" ancora per qualche momento \" quasi quasi gli chiede s io \" che m abbia am il fratello . [UNK] La nostra storia nota es che \" da quel giorno in poi \" quel signore fu un po men pre \" e un po più alla mano .▌ Il padre Cristo cam \" con una con che non aveva mai più prova \" dopo quel giorno ter \" ad es il quale tutta la sua vita doveva esse con .▌ Il sile ch era im a novi \" l oss \" senza av \" ass com era \" nel pensiero delle fat \" delle pri e dell um che avrebbe so \" per is il suo fall .▌ Fe \" all ora della ref \" presso un bene \" mang \" con una specie di vol \" del pan del perd : ma ne ser un pezzo \" e lo ri nella sport \" per tener \"\n"
     ]
    },
    {
     "data": {
      "text/html": [],
      "text/plain": [
       "<IPython.core.display.HTML object>"
      ]
     },
     "metadata": {},
     "output_type": "display_data"
    },
    {
     "name": "stderr",
     "output_type": "stream",
     "text": [
      "Trainer.tokenizer is now deprecated. You should use Trainer.processing_class instead.\n"
     ]
    },
    {
     "name": "stdout",
     "output_type": "stream",
     "text": [
      "\n",
      "Example 0 — 7 predicted sentences:\n",
      " • in né im punto dagli anni ; l occhio grave e viva \" la fronte ser e pensiero ; con la can \" nel pal \" tra i seg dell asti \" della med \" della fat \" una specie di flor ver : tutte le forme del volto indica che in altre età \" c era stata quella che più propria si chiama belle ; l ab de pen solen e bene \" la pace interna d una lunga vita \" l amore degli uomini \" la gi continua d una sp in \" vi avevano sos una \" dire quasi \" belle seni \" che sp an più in quella mag sem della por. Ten\n",
      " • anche lui \" qualche momento \" fi nell aspetto dell inn il suo sg pen \" ed ese da lungo tempo a rit dai sem i pen ; e \" sotto a quel fos e a quel tur \" pare di s sempre più qualcosa di conforme alla sp da lui con al primo ann d una tal visita \" tu anima \" « o! » disse : « che pre visita è questa! e quanto vi de esse gra d una sì buona ri ; quant per me abbia un po del ri! » « Rim! » es\n",
      " • il signore mara \" ma rad da quelle parole e da quel fare \" e content che il cardinale avesse rot il ghiaccio \" e av un disco qual. « Ce \" m è un\n",
      " • ri \" » riprese questo \" « ch io mi sia lasciato pre da voi ; quando \" da tanto tempo \" tante volte \" av dovuto venir da voi io. » « Da me \" voi! Sa chi\n",
      " • sono? V hanno detto bene il\n",
      " • mio nome? » «\n",
      " • E questa con ch io sent\n",
      "\n",
      "Example 1 — 18 predicted sentences:\n",
      " • cel : ora par bene. Quando\n",
      " • hai detto per cel [UNK] Son\n",
      " • proprio cel. » E ca\n",
      " • bo sul letto. « Ani ;\n",
      " • sp ; presto \" » disse l os \" e al consiglio ag l aiuto ; che ce n era bisogno. Quando Renzo si fu\n",
      " • leva il fars ( e ce ne volle ) \" l os l ag subito \" e corse con le mani alle tas \" per vedere se c era il morto. Lo trovò : e pensa\n",
      " • che \" il giorno dopo \" il suo os avrebbe avuto a fare i cont con tu altri che con lui \" e che quel morto sarebbe probabilmente ca in mani di dove un os non avrebbe potuto far uscire ; volle prova se almeno gli rius di conclude quest altro af. « Vo siete un buon figli\n",
      " • \" un gala ; n è vero? » disse. « Bu figli \" gala \" » ri\n",
      " • Renzo \" facendo tuttavia lit le dita co bot de pan che non s era an potuto levar. « Ben \" » rep l os : «\n",
      " • sal ora dunque quel poco cont \" perché doma io de uscire per ce mi affari [UNK] » « Quest è gi \" » disse Renzo. «\n",
      " • Son fur \" ma gala [UNK] Ma i dana?\n",
      " • And a cercare i dana ora! »\n",
      " • « E qui \"\n",
      " • » disse l os : e \" mette\n",
      " • in opera tutta la sua pratica \" tutta la sua paz \" tutta la sua des \" gli riuscì di fare il conto con Renzo \" e di pagar. « Damm una mano \" ch io possa fini di sp \" os\n",
      " • \" » disse Renzo. « Lo ved anch io \" ve \" che ho add un gran son.\n",
      " • » L os gli diede l aiuto rich ; gli st per di più la cop\n",
      " • add \" e gli disse sg\n",
      "\n",
      "Example 2 — 8 predicted sentences:\n",
      " • alcune in punta di piedi ; in ultimo le con rit sopra pan. Si\n",
      " • vede pure qua e là lu a me aria alcuni occhi \" sp qualche visi tra le tona : eran le più des \" e le più cor tra l edu \" che \" fi e pen tra mon e mon \" eran rius a farsi un po di per \" per vedere anch esse qualche cosa. Da quella\n",
      " • cal us ac ; si vede molte bra di \" in segno d ac e di gi. G alla porta\n",
      " • ; Gertrude si trovò a viso a viso con la madre bad. Dopo i primi com\n",
      " • \" questa \" con una maniera tra il gi e il solen \" le doma cosa des in quel luogo \" dove non c era chi le pot ne nulla. « Son qui [UNK] \"\n",
      " • » cominciò Gertrude ; ma \" al punto di prof le parole che doveva decide quasi ir del suo destino \" esi un momento \" e rimase con gli occhi fi sulla f che le stava davanti. Vide \" in quel momento \"\n",
      " • una di quelle sue note com \" che la guarda con un aria di com e di mali insieme \" e pare che dice : ah! la c è cas la bra. Que vista \" ri più vi nell ani\n",
      " • suo tutti gli antichi sentiment \" le resti anche un po di quel poco antico cor : e già stava cerca una risposta qual \" diversa da quella che le era stata detta ; quando \" al lo sg alla faccia del padre \" quasi per es le sue forze \" s su quella un in così cup \" un im così mina \" che \" ri per paura \" con la stessa pro che avrebbe preso la fuga dina un oggetto ter \" prose : « son qui a chiede\n"
     ]
    },
    {
     "data": {
      "text/html": [],
      "text/plain": [
       "<IPython.core.display.HTML object>"
      ]
     },
     "metadata": {},
     "output_type": "display_data"
    },
    {
     "name": "stderr",
     "output_type": "stream",
     "text": [
      "Trainer.tokenizer is now deprecated. You should use Trainer.processing_class instead.\n"
     ]
    },
    {
     "name": "stdout",
     "output_type": "stream",
     "text": [
      "\n",
      "### Example 0 — 8 predicted sentences\n",
      "\n",
      " • incurvato né impigrito punto dagli anni ; l ' occhio grave e vivace \", \" la fronte serena e pensierosa ; con la canizie \", \" nel pallore \", \" tra i segni dell ' astinenza \", \" della meditazione \", \" della fatica \", \" una specie di floridezza verginale : tutte le forme del volto indicavano che in altre età \", \" c ' era stata quella che più propriamente si chiama bellezza ; l ' abitudine de ' pensieri solenni e benevoli \", \" la pace interna d ' una lunga vita \", \" l ' amore degli uomini \", \" la gioia continua d ' una speranza ineffabile \", \" vi avevano sostituita una \", \" direi quasi \", \" bellezza senile \", \" che spiccava ancor più in quella magnifica semplicità della porpora. Ten\n",
      " • ##ne anche lui \", \" qualche momento \", \" fisso nell ' aspetto dell ' innominato il suo sguardo penetrante \", \" ed esercitato da lungo tempo a ritrarre dai sembianti i pensieri ; e \", \" sotto a quel fosco e a quel turbato \", \" parendogli di scoprire sempre più qualcosa di conforme alla speranza da lui concepita al primo annunzio d ' una tal visita \", \" tutt ' animato \", \" « oh! » disse : « che preziosa visita è questa! e quanto vi devo esser grato d ' una sì buona risoluzione ; quantunque per me abbia un po ' del rimprovero! » «\n",
      " • Rimprovero! » esclamò il signore maravigliato \", \" ma raddolcito da quelle parole e da quel fare \", \" e contento che il cardinale avesse rotto il ghiaccio \", \" e avviato un discorso qualunque. «\n",
      " • Certo \", \" m ' è un rimprovero \", \" » riprese questo \", \" « ch ' io mi sia lasciato prevenir da voi ; quando \", \" da tanto tempo \", \" tante volte \", \" avrei dovuto venir da voi io. » «\n",
      " • Da me \", \" voi! Sa\n",
      " • ##pete chi sono? V\n",
      " • ' hanno detto bene il mio nome? » «\n",
      " • E questa consolazione ch ' io sent\n",
      "\n",
      "### Example 1 — 18 predicted sentences\n",
      "\n",
      " • celia : ora parli bene. Quando\n",
      " • hai detto per celia Son proprio\n",
      " • celie. » E ca\n",
      " • ##dde bocconi sul letto. « Ani\n",
      " • ##mo ; spogliatevi ; presto \", \" » disse l ' oste \", \" e al consiglio aggiunse l ' aiuto ; che ce n ' era bisogno. Quando Renzo\n",
      " • si fu levato il farsetto ( e ce ne volle ) \", \" l ' oste l ' agguantò subito \", \" e corse con le mani alle tasche \", \" per vedere se c ' era il morto. Lo trovò\n",
      " • : e pensando che \", \" il giorno dopo \", \" il suo ospite avrebbe avuto a fare i conti con tutt ' altri che con lui \", \" e che quel morto sarebbe probabilmente caduto in mani di dove un oste non avrebbe potuto farlo uscire ; volle provarsi se almeno gli riusciva di concluder quest ' altro affare. « Vo\n",
      " • ##i siete un buon figliuolo \", \" un galantuomo ; n ' è vero? » disse. « Bu\n",
      " • ##on figliuolo \", \" galantuomo \", \" » rispose Renzo \", \" facendo tuttavia litigar le dita co ' bottoni de ' panni che non s ' era ancor potuto levare. « Ben\n",
      " • ##e \", \" » replicò l ' oste : « saldate ora dunque quel poco conticino \", \" perché domani io devo uscire per certi miei affari » « Quest '\n",
      " • è giusto \", \" » disse Renzo. « Son fur\n",
      " • ##bo \", \" ma galantuomo Ma i danari\n",
      " • ? Andare a cercare\n",
      " • i danari ora! » « Eccoli\n",
      " • qui \", \" » disse l ' oste : e \", \" mettendo in opera tutta la sua pratica \", \" tutta la sua pazienza \", \" tutta la sua destrezza \", \" gli riuscì di fare il conto con Renzo \", \" e di pagarsi. « Dammi una\n",
      " • mano \", \" ch ' io possa finir di spogliarmi \", \" oste \", \" » disse Renzo. « Lo vedo\n",
      " • anch ' io \", \" ve ' \", \" che ho addosso un gran sonno. » L ' oste\n",
      " • gli diede l ' aiuto richiesto ; gli stese per di più la coperta addosso \", \" e gli disse sgarbatamente\n"
     ]
    },
    {
     "data": {
      "text/html": [],
      "text/plain": [
       "<IPython.core.display.HTML object>"
      ]
     },
     "metadata": {},
     "output_type": "display_data"
    },
    {
     "name": "stdout",
     "output_type": "stream",
     "text": [
      "\n",
      "### Window 14\n",
      "P: perder la testa ; ma \", \" per ciò che riguarda quel seme tanto pernizioso de ' bravi \", \" certo è che esso continuava a germogliare \", \" il 22 settembre dell ' anno 1612. In | quel giorno l ' Illustrissimo ed Eccellentissimo Signore \", \" il Signor Don Giovanni de Mendozza \", \" Marchese de la Hynojosa \", \" Gentiluomo etc. Governatore etc. \", \" pensò seriamente ad estirparlo. A | quest ' effetto \", \" spedì a Pandolfo e Marco Tullio Malatesti \", \" stampatori regii camerali \", \" la solita grida \", \" corretta ed accresciuta \", \" perché la stampassero ad esterminio de ' bravi. Ma | questi vissero ancora per ricevere \", \" il 24 decembre dell ' anno 1618 \", \" gli stessi e più forti colpi dall ' Illustrissimo ed Eccellentissimo Signore \", \" il Signor don Gomez Suarez de Figueroa \", \" Duca di Feria \", \" etc. Governatore etc. Però non essendo essi morti neppur di quelli \", \" l ' Illustrissimo ed Eccellentissimo Signore \", \" il Signor Gonzalo Fernandez di Cordova \", \" sotto il cui governo accadde la passeggiata di don Abbondio \", \" s ' era trovato costretto a ricorreggere e ripubblicare la solita grida contro i bravi \", \" il giorno 5 ottobre del 1627 \", \" cioè un anno \", \" un mese e due giorni prima di quel memorabile avvenimento. Né | fu questa l ' ultima pubblicazione ; ma noi delle posteriori non crediamo dover far menzione \", \" come di cosa che esce dal periodo della nostra storia. Ne | accenneremo soltanto una del 13 febbraio dell ' anno 1632 \", \" nella quale l ' Illustrissimo ed Eccellentissimo Signore \", \" el Duque de Feria \", \" per la seconda volta governatore \", \" ci avvisa che le maggiori sceleraggini procedono da quelli che chiamano bravi. Questo | basta ad assicurarci che \", \" nel tempo di cui noi trattiamo \", \" c ' era de ' bravi tuttavia. Che | i due descritti di sopra stessero ivi ad aspettar qualchedun\n",
      "G: perder la testa ; ma \", \" per ciò che riguarda quel seme tanto pernizioso de ' bravi \", \" certo è che esso continuava a germogliare \", \" il 22 settembre dell ' anno 1612. In | quel giorno l ' Illustrissimo ed Eccellentissimo Signore \", \" il Signor Don Giovanni de Mendozza \", \" Marchese de la Hynojosa \", \" Gentiluomo etc. Governatore etc. \", \" pensò seriamente ad estirparlo. A | quest ' effetto \", \" spedì a Pandolfo e Marco Tullio Malatesti \", \" stampatori regii camerali \", \" la solita grida \", \" corretta ed accresciuta \", \" perché la stampassero ad esterminio de ' bravi. Ma | questi vissero ancora per ricevere \", \" il 24 decembre dell ' anno 1618 \", \" gli stessi e più forti colpi dall ' Illustrissimo ed Eccellentissimo Signore \", \" il Signor don Gomez Suarez de Figueroa \", \" Duca di Feria \", \" etc. Governatore etc. | Però non essendo essi morti neppur di quelli \", \" l ' Illustrissimo ed Eccellentissimo Signore \", \" il Signor Gonzalo Fernandez di Cordova \", \" sotto il cui governo accadde la passeggiata di don Abbondio \", \" s ' era trovato costretto a ricorreggere e ripubblicare la solita grida contro i bravi \", \" il giorno 5 ottobre del 1627 \", \" cioè un anno \", \" un mese e due giorni prima di quel memorabile avvenimento. Né | fu questa l ' ultima pubblicazione ; ma noi delle posteriori non crediamo dover far menzione \", \" come di cosa che esce dal periodo della nostra storia. Ne | accenneremo soltanto una del 13 febbraio dell ' anno 1632 \", \" nella quale l ' Illustrissimo ed Eccellentissimo Signore \", \" el Duque de Feria \", \" per la seconda volta governatore \", \" ci avvisa che le maggiori sceleraggini procedono da quelli che chiamano bravi. Questo | basta ad assicurarci che \", \" nel tempo di cui noi trattiamo \", \" c ' era de ' bravi tuttavia. Che | i due descritti di sopra stessero ivi ad aspettar qualchedun\n",
      "\n",
      "### Window 17\n",
      "P: ##rsi di gran cappe \", \" d ' alte penne \", \" di durlindane pendenti \", \" un moversi librato di gorgiere inamidate e crespe \", \" uno strascico intralciato di rabescate zimarre. Le | anticamere \", \" il cortile e la strada formicolavan di servitori \", \" di paggi \", \" di bravi e di curiosi. Fra | Cristoforo vide quell ' apparecchio \", \" ne indovinò il motivo \", \" e provò un leggier turbamento ; ma \", \" dopo un istante \", \" disse tra sé : sta bene : l ' ho ucciso in pubblico \", \" alla presenza di tanti suoi nemici : quello fu scandolo \", \" questa è riparazione. Così \" | , | \" con gli occhi bassi \", \" col padre compagno al fianco \", \" passò la porta di quella casa \", \" attraversò il cortile \", \" tra una folla che lo squadrava con una curiosità poco cerimoniosa ; salì le scale \", \" e \", \" di mezzo all ' altra folla signorile \", \" che fece ala al suo passaggio \", \" seguito da cento sguardi \", \" giunse alla presenza del padron di casa ; il quale \", \" circondato da ' parenti più prossimi \", \" stava ritto nel mezzo della sala \", \" con lo sguardo a terra \", \" e il mento in aria \", \" impugnando \", \" con la mano sinistra \", \" il pomo della spada \", \" e stringendo con la destra il bavero della cappa sul petto. C ' è | talvolta \", \" nel volto e nel contegno d ' un uomo \", \" un ' espressione così immediata \", \" si direbbe quasi un ' effusione dell ' animo interno \", \" che \", \" in una folla di spettatori \", \" il giudizio sopra quell ' animo sarà un solo. Il volto e | il contegno di fra Cristoforo disser chiaro agli astanti \", \" che non s ' era fatto frate \", \" né veniva a quell ' umiliazione per timore umano : e questo cominciò a concigliarglieli tutti. Quando vide l | ' offeso \", \" affre\n",
      "G: ##rsi di gran cappe \", \" d ' alte penne \", \" di durlindane pendenti \", \" un moversi librato di gorgiere inamidate e crespe \", \" uno strascico intralciato di rabescate zimarre. Le | anticamere \", \" il cortile e la strada formicolavan di servitori \", \" di paggi \", \" di bravi e di curiosi. Fra | Cristoforo vide quell ' apparecchio \", \" ne indovinò il motivo \", \" e provò un leggier turbamento ; ma \", \" dopo un istante \", \" disse tra sé : sta bene : l ' ho ucciso in pubblico \", \" alla presenza di tanti suoi nemici : quello fu scandolo \", \" questa è riparazione. Così \", | \" con gli occhi bassi \", \" col padre compagno al fianco \", \" passò la porta di quella casa \", \" attraversò il cortile \", \" tra una folla che lo squadrava con una curiosità poco cerimoniosa ; salì le scale \", \" e \", \" di mezzo all ' altra folla signorile \", \" che fece ala al suo passaggio \", \" seguito da cento sguardi \", \" giunse alla presenza del padron di casa ; il quale \", \" circondato da ' parenti più prossimi \", \" stava ritto nel mezzo della sala \", \" con lo sguardo a terra \", \" e il mento in aria \", \" impugnando \", \" con la mano sinistra \", \" il pomo della spada \", \" e stringendo con la destra il bavero della cappa sul petto. C ' è | talvolta \", \" nel volto e nel contegno d ' un uomo \", \" un ' espressione così immediata \", \" si direbbe quasi un ' effusione dell ' animo interno \", \" che \", \" in una folla di spettatori \", \" il giudizio sopra quell ' animo sarà un solo. Il volto e | il contegno di fra Cristoforo disser chiaro agli astanti \", \" che non s ' era fatto frate \", \" né veniva a quell ' umiliazione per timore umano : e questo cominciò a concigliarglieli tutti. Quando vide l | ' offeso \", \" affre\n",
      "\n",
      "### Window 30\n",
      "P: ##pure! se una parola \", \" una parola tale mi potesse far bene \", \" levarmi d ' addosso un po ' di questa diavoleria \", \" la direi ; eh! sento che la direi. A | che cosa son ridotto! Non | son più uomo \", \" non son più uomo! Via | ! disse poi \", \" rivoltandosi arrabbiatamente nel letto divenuto duro duro \", \" sotto le coperte divenute pesanti pesanti : via! sono sciocchezze che mi son passate per la testa altre volte. Passerà anche | questa. E per farla | passare \", \" andò cercando col pensiero qualche cosa importante \", \" qualcheduna di quelle che solevano occuparlo fortemente \", \" onde applicarvelo tutto ; ma non ne trovò nessuna. Tutto gli appari | ##va cambiato : ciò che altre volte stimolava più fortemente i suoi desidèri \", \" ora non aveva più nulla di desiderabile : la passione \", \" come un cavallo divenuto tutt ' a un tratto restìo per un ' ombra \", \" non voleva più andare avanti. Pensando all ' im | ##prese avviate e non finite \", \" in vece d ' animarsi al compimento \", \" in vece d ' irritarsi degli ostacoli ( chè l ' ira in quel momento gli sarebbe parsa soave ) \", \" sentiva una tristezza \", \" quasi uno spavento de ' passi già fatti. Il tempo gli s ' | affacciò davanti vòto d ' ogni intento \", \" d ' ogni occupazione \", \" d ' ogni volere \", \" pieno soltanto di memorie intollerabili ; tutte l ' ore somiglianti a quella che gli passava così lenta \", \" così pesante sul capo. Si schierava nella | fantasia tutti i suoi malandrini \", \" e non trovava da comandare a nessuno di loro una cosa che gl ' importasse ; anzi l ' idea di rivederli \", \" di trovarsi tra loro \", \" era un nuovo peso \", \" un ' idea di schifo e d ' impiccio. E se volle trovare un | ' occupazione per l ' indomani \", \" un ' opera fattibile \", \" dovette pensare che all ' indomani poteva lasciare in libertà quella poveri\n",
      "G: ##pure! se una parola \", \" una parola tale mi potesse far bene \", \" levarmi d ' addosso un po ' di questa diavoleria \", \" la direi ; eh! sento che la direi. A | che cosa son ridotto! Non | son più uomo \", \" non son più uomo! Via! | disse poi \", \" rivoltandosi arrabbiatamente nel letto divenuto duro duro \", \" sotto le coperte divenute pesanti pesanti : via! sono sciocchezze che mi son passate per la testa altre volte. Passerà anche | questa. E per farla passare | \", \" andò cercando col pensiero qualche cosa importante \", \" qualcheduna di quelle che solevano occuparlo fortemente \", \" onde applicarvelo tutto ; ma non ne trovò nessuna. Tutto gli appari | ##va cambiato : ciò che altre volte stimolava più fortemente i suoi desidèri \", \" ora non aveva più nulla di desiderabile : la passione \", \" come un cavallo divenuto tutt ' a un tratto restìo per un ' ombra \", \" non voleva più andare avanti. Pensando all ' im | ##prese avviate e non finite \", \" in vece d ' animarsi al compimento \", \" in vece d ' irritarsi degli ostacoli ( chè l ' ira in quel momento gli sarebbe parsa soave ) \", \" sentiva una tristezza \", \" quasi uno spavento de ' passi già fatti. Il tempo gli s ' | affacciò davanti vòto d ' ogni intento \", \" d ' ogni occupazione \", \" d ' ogni volere \", \" pieno soltanto di memorie intollerabili ; tutte l ' ore somiglianti a quella che gli passava così lenta \", \" così pesante sul capo. Si schierava nella | fantasia tutti i suoi malandrini \", \" e non trovava da comandare a nessuno di loro una cosa che gl ' importasse ; anzi l ' idea di rivederli \", \" di trovarsi tra loro \", \" era un nuovo peso \", \" un ' idea di schifo e d ' impiccio. E se volle trovare un | ' occupazione per l ' indomani \", \" un ' opera fattibile \", \" dovette pensare che all ' indomani poteva lasciare in libertà quella poveri\n",
      "\n",
      "### Window 39\n",
      "P: non deve andarne di mezzo \", \" per le tue pazzie. Renzo | ringraziò la guida \", \" e tutti quegli altri che avevan prese le sue parti. « Br | ##avi amici! » disse : « ora vedo proprio che i galantuomini si danno la mano \", \" e si sostengono. » Poi | \", \" spianando la destra per aria sopra la tavola \", \" e mettendosi di nuovo in attitudine di predicatore \", \" « gran cosa \", \" » esclamò \", \" « che tutti quelli che regolano il mondo \", \" voglian fare entrar per tutto carta \", \" penna e calamaio! Sempre la | penna per aria! Grande sm | ##ania che hanno que ' signori d ' adoprar la penna! » « E | ##hi \", \" quel galantuomo di campagna! volete saperne la ragione? » disse ridendo uno di que ' giocatori \", \" che vinceva. « Sent | ##iamo un poco \", \" » rispose Renzo. « La | ragione è questa \", \" » disse colui : « che que ' signori son loro che mangian l ' oche \", \" e si trovan lì tante penne \", \" tante penne \", \" che qualcosa bisogna che ne facciano. » Tutti si | misero a ridere \", \" fuor che il compagno che perdeva. « To | ' \", \" » disse Renzo : « è un poeta costui. Ce n | ' è anche qui de ' poeti : già ne nasce per tutto. N ' | ho una vena anch ' io \", \" e qualche volta ne dico delle curiose ma quando le cose vanno bene. » Per capire | questa baggianata del povero Renzo \", \" bisogna sapere che \", \" presso il volgo di Milano \", \" e del contado ancora più \", \" poeta non significa già \", \" come per tutti i galantuomini \", \" un sacro ingegno \", \" un abitator di Pindo \", \" un allievo delle Muse ; vuol dire un cervello bizzarro e un po ' balzano \", \" che \", \" ne ' discorsi e ne ' fatti \", \" abbia più dell ' arguto e del singolare che del ragionevole. Tanto quel gu | ##astamestieri del volgo è\n",
      "G: non deve andarne di mezzo \", \" per le tue pazzie. Renzo ring | ##raziò la guida \", \" e tutti quegli altri che avevan prese le sue parti. « Br | ##avi amici! » disse : « ora vedo proprio che i galantuomini si danno la mano \", \" e si sostengono. » Poi | \", \" spianando la destra per aria sopra la tavola \", \" e mettendosi di nuovo in attitudine di predicatore \", \" « gran cosa \", \" » esclamò \", \" « che tutti quelli che regolano il mondo \", \" voglian fare entrar per tutto carta \", \" penna e calamaio! Sempre la | penna per aria! Grande sm | ##ania che hanno que ' signori d ' adoprar la penna! » « E | ##hi \", \" quel galantuomo di campagna! volete saperne la ragione? » disse ridendo uno di que ' giocatori \", \" che vinceva. « Sent | ##iamo un poco \", \" » rispose Renzo. « La | ragione è questa \", \" » disse colui : « che que ' signori son loro che mangian l ' oche \", \" e si trovan lì tante penne \", \" tante penne \", \" che qualcosa bisogna che ne facciano. » Tutti si | misero a ridere \", \" fuor che il compagno che perdeva. « To | ' \", \" » disse Renzo : « è un poeta costui. Ce n | ' è anche qui de ' poeti : già ne nasce per tutto. N ' | ho una vena anch ' io \", \" e qualche volta ne dico delle curiose ma quando le cose vanno bene. » Per capire | questa baggianata del povero Renzo \", \" bisogna sapere che \", \" presso il volgo di Milano \", \" e del contado ancora più \", \" poeta non significa già \", \" come per tutti i galantuomini \", \" un sacro ingegno \", \" un abitator di Pindo \", \" un allievo delle Muse ; vuol dire un cervello bizzarro e un po ' balzano \", \" che \", \" ne ' discorsi e ne ' fatti \", \" abbia più dell ' arguto e del singolare che del ragionevole. Tanto quel gu | ##astamestieri del volgo è\n",
      "\n",
      "### Window 42\n",
      "P: \", \" le lodi del novizio \", \" la riconciliazione \", \" la mansuetudine furono i temi della conversazione. E | taluno \", \" che \", \" per la cinquantesima volta \", \" avrebbe raccontato come il conte Muzio suo padre aveva saputo \", \" in quella famosa congiuntura \", \" far stare a dovere il marchese Stanislao \", \" ch ' era quel rodomonte che ognun sa \", \" parlò in vece delle penitenze e della pazienza mirabile d ' un fra Simone \", \" morto molt ' anni prima. Partit | ##a la compagnia \", \" il padrone \", \" ancor tutto commosso \", \" riandava tra sé \", \" con maraviglia \", \" ciò che aveva inteso \", \" ciò ch ' egli medesimo aveva detto ; e borbottava tra i denti : diavolo d ' un frate! ( bisogna bene che noi trascriviamo le sue precise parole ) diavolo d ' un frate! se rimaneva lì in ginocchio \", \" ancora per qualche momento \", \" quasi quasi gli chiedevo scusa io \", \" che m ' abbia ammazzato il fratello. La nostra storia nota espressamente che \", \" da quel giorno in poi \", \" quel signore fu un po ' men precipitoso \", \" e un po ' più alla mano. Il padre Cristoforo | camminava \", \" con una consolazione che non aveva mai più provata \", \" dopo quel giorno terribile \", \" ad espiare il quale tutta la sua vita doveva esser consacrata. Il silenzio ch | ' era imposto a ' novizi \", \" l ' osservava \", \" senza avvedersene \", \" assorto com ' era \", \" nel pensiero delle fatiche \", \" delle privazioni e dell ' umiliazioni che avrebbe sofferte \", \" per iscontare il suo fallo. Fermandosi \" | , \" all ' ora della refezione \", \" presso un benefattore \", \" mangiò \", \" con una specie di voluttà \", \" del pane del perdono : ma ne serbò un pezzo \", \" e lo ripose nella sporta \", \" per tenerlo \", \"\n",
      "G: \", \" le lodi del novizio \", \" la riconciliazione \", \" la mansuetudine furono i temi della conversazione. E | taluno \", \" che \", \" per la cinquantesima volta \", \" avrebbe raccontato come il conte Muzio suo padre aveva saputo \", \" in quella famosa congiuntura \", \" far stare a dovere il marchese Stanislao \", \" ch ' era quel rodomonte che ognun sa \", \" parlò in vece delle penitenze e della pazienza mirabile d ' un fra Simone \", \" morto molt ' anni prima. Partit | ##a la compagnia \", \" il padrone \", \" ancor tutto commosso \", \" riandava tra sé \", \" con maraviglia \", \" ciò che aveva inteso \", \" ciò ch ' egli medesimo aveva detto ; e borbottava tra i denti : diavolo d ' un frate! ( bisogna bene che noi trascriviamo le sue precise parole ) diavolo d ' un frate! se rimaneva lì in ginocchio \", \" ancora per qualche momento \", \" quasi quasi gli chiedevo scusa io \", \" che m ' abbia ammazzato il fratello. La nostra storia nota | espressamente che \", \" da quel giorno in poi \", \" quel signore fu un po ' men precipitoso \", \" e un po ' più alla mano. Il padre Cristoforo | camminava \", \" con una consolazione che non aveva mai più provata \", \" dopo quel giorno terribile \", \" ad espiare il quale tutta la sua vita doveva esser consacrata. Il silenzio ch | ' era imposto a ' novizi \", \" l ' osservava \", \" senza avvedersene \", \" assorto com ' era \", \" nel pensiero delle fatiche \", \" delle privazioni e dell ' umiliazioni che avrebbe sofferte \", \" per iscontare il suo fallo. Fermandosi \" | , \" all ' ora della refezione \", \" presso un benefattore \", \" mangiò \", \" con una specie di voluttà \", \" del pane del perdono : ma ne serbò un pezzo \", \" e lo ripose nella sporta \", \" per tenerlo \", \"\n"
     ]
    }
   ],
   "source": [
    "best_key = max(ood_results, key=lambda k: ood_results[k][\"f1\"])\n",
    "model_dir = paths.chekpoints/best_key\n",
    "\n",
    "ood_best_trainer = evaluation.load_trainer_for_eval(model_dir, HF_DATA / best_key / \"ood\")\n",
    "ood_ds = load_from_disk(HF_DATA/best_key/\"val\")\n",
    "results = error_examples(ood_best_trainer, ood_ds, max_show=5)\n",
    "\n",
    "evaluation.preview_predictions(ood_best_trainer, ood_ds, k=3)\n",
    "evaluation.preview_full_sentences(ood_best_trainer, ood_ds, n_examples=2)\n",
    "evaluation.preview_pred_vs_gold(ood_best_trainer, ood_ds, results)"
   ]
  }
 ],
 "metadata": {
  "kernelspec": {
   "display_name": ".venv",
   "language": "python",
   "name": "python3"
  },
  "language_info": {
   "codemirror_mode": {
    "name": "ipython",
    "version": 3
   },
   "file_extension": ".py",
   "mimetype": "text/x-python",
   "name": "python",
   "nbconvert_exporter": "python",
   "pygments_lexer": "ipython3",
   "version": "3.12.3"
  }
 },
 "nbformat": 4,
 "nbformat_minor": 5
}
